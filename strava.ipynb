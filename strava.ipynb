{
 "cells": [
  {
   "cell_type": "code",
   "id": "initial_id",
   "metadata": {
    "collapsed": true,
    "ExecuteTime": {
     "end_time": "2025-01-25T05:00:31.218070Z",
     "start_time": "2025-01-25T05:00:30.445547Z"
    }
   },
   "source": [
    "import pandas as pd\n",
    "import numpy as np\n",
    "from stravalib import Client\n",
    "import webbrowser\n",
    "from Pace import Pace\n",
    "from units import *\n",
    "import plotly.express as px\n",
    "import plotly.graph_objects as go\n",
    "import matplotlib.pyplot as plt\n",
    "import webbrowser\n",
    "from functions import *\n",
    "from tqdm import tqdm\n",
    "import pickle"
   ],
   "outputs": [],
   "execution_count": 1
  },
  {
   "metadata": {
    "ExecuteTime": {
     "end_time": "2025-01-25T05:01:43.153194Z",
     "start_time": "2025-01-25T05:01:43.151108Z"
    }
   },
   "cell_type": "code",
   "source": [
    "client = Client()\n",
    "client_id = 145799\n",
    "client_secret = 'bd21c12ed936cfa96efc06b5b7ab37660c5629db'\n",
    "redirect_uri = 'http://localhost:8282/authorized'"
   ],
   "id": "d229ad351086c482",
   "outputs": [],
   "execution_count": 13
  },
  {
   "metadata": {},
   "cell_type": "markdown",
   "source": "## Generate authorization code",
   "id": "f6a4a50fdc596769"
  },
  {
   "metadata": {
    "ExecuteTime": {
     "end_time": "2025-01-25T05:01:44.956280Z",
     "start_time": "2025-01-25T05:01:44.953685Z"
    }
   },
   "cell_type": "code",
   "source": [
    "def getCode():\n",
    "    authorize_url = client.authorization_url(client_id=client_id, \n",
    "                                             redirect_uri=redirect_uri,\n",
    "                                             scope=['read_all', 'profile:read_all', 'activity:read_all'])\n",
    "    webbrowser.open(authorize_url)\n",
    "    code = input(\"Enter the code: \")\n",
    "    return code"
   ],
   "id": "958109f4b7a7217a",
   "outputs": [],
   "execution_count": 14
  },
  {
   "metadata": {
    "ExecuteTime": {
     "end_time": "2025-01-25T05:00:37.043001Z",
     "start_time": "2025-01-25T05:00:37.040343Z"
    }
   },
   "cell_type": "code",
   "source": [
    "# read the client from the pickle file\n",
    "try:\n",
    "    client = pickle.load(open(PKL, 'rb'))\n",
    "    print('Client loaded from file')\n",
    "except:\n",
    "    print('You must authenticate - run below cell.')"
   ],
   "id": "3f51fb3ac3a80a20",
   "outputs": [
    {
     "name": "stdout",
     "output_type": "stream",
     "text": [
      "Client loaded from file\n"
     ]
    }
   ],
   "execution_count": 4
  },
  {
   "metadata": {
    "ExecuteTime": {
     "end_time": "2025-01-25T05:01:55.222909Z",
     "start_time": "2025-01-25T05:01:46.926857Z"
    }
   },
   "cell_type": "code",
   "source": [
    "import pickle\n",
    "\n",
    "if client.access_token is None:    \n",
    "    authorize_url = client.authorization_url(client_id=client_id, \n",
    "                                             redirect_uri=redirect_uri,\n",
    "                                             scope=['read_all', 'profile:read_all', 'activity:read_all'])\n",
    "    \n",
    "    # Open the authorization URL in a web browser\n",
    "    webbrowser.open(authorize_url)\n",
    "    \n",
    "    # After authorization, you'll be redirected to a URL. Copy the 'code' parameter from this URL\n",
    "    code = input(\"Enter the code: \")\n",
    "    \n",
    "    # Exchange the code for a token\n",
    "    token_response = client.exchange_code_for_token(client_id=client_id, \n",
    "                                                    client_secret=client_secret, \n",
    "                                                    code=code)\n",
    "    \n",
    "    # Now you can use the access token to make API requests\n",
    "    access_token = token_response['access_token']\n",
    "    client.access_token = access_token\n",
    "\n",
    "print('Authenticated')"
   ],
   "id": "1899dc46aae45ce6",
   "outputs": [
    {
     "name": "stderr",
     "output_type": "stream",
     "text": [
      "No rates present in response headers\n"
     ]
    },
    {
     "name": "stdout",
     "output_type": "stream",
     "text": [
      "Authenticated\n"
     ]
    }
   ],
   "execution_count": 15
  },
  {
   "metadata": {
    "ExecuteTime": {
     "end_time": "2025-01-25T05:00:42.188147Z",
     "start_time": "2025-01-25T05:00:42.185172Z"
    }
   },
   "cell_type": "code",
   "source": [
    "with open(PKL, 'wb') as pkl:\n",
    "    pickle.dump(client, pkl)\n",
    "print('Client saved to file. Access code: ', client.access_token)"
   ],
   "id": "4d5b14c5ac32c3a",
   "outputs": [
    {
     "name": "stdout",
     "output_type": "stream",
     "text": [
      "Client saved to file. Access code:  1b1cfe65e7c16201d728fa0ce0aa5f89dc709805\n"
     ]
    }
   ],
   "execution_count": 6
  },
  {
   "metadata": {},
   "cell_type": "markdown",
   "source": "## Get Athlete Profile",
   "id": "b985ed2081410efe"
  },
  {
   "metadata": {
    "ExecuteTime": {
     "end_time": "2025-01-25T05:01:58.706023Z",
     "start_time": "2025-01-25T05:01:58.701665Z"
    }
   },
   "cell_type": "code",
   "source": "myActivities = pd.read_csv('myActivities.csv')",
   "id": "259c576dcf753f7",
   "outputs": [],
   "execution_count": 16
  },
  {
   "metadata": {
    "ExecuteTime": {
     "end_time": "2025-01-25T05:02:37.482834Z",
     "start_time": "2025-01-25T05:02:36.636589Z"
    }
   },
   "cell_type": "code",
   "source": [
    "activities = client.get_activities()\n",
    "activity_list = []\n",
    "for activity in activities:\n",
    "    activity_dict = {\n",
    "        'id': activity.id,\n",
    "        'name': activity.name,\n",
    "        'start_date': activity.start_date,\n",
    "        'distance': activity.distance,  # Convert distance to numeric (meters)\n",
    "        'moving_time': activity.moving_time,  # Convert to seconds\n",
    "        'elapsed_time': activity.elapsed_time,  # Convert to seconds\n",
    "        'total_elevation_gain': activity.total_elevation_gain,\n",
    "        'type': activity.type,\n",
    "        'average_speed': activity.average_speed if activity.average_speed else None,  # Convert to numeric\n",
    "        'max_speed': activity.max_speed if activity.max_speed else None,  # Convert to numeric\n",
    "        'average_heartrate': activity.average_heartrate,\n",
    "        'max_heartrate': activity.max_heartrate,\n",
    "    }\n",
    "    \n",
    "myActivities = pd.DataFrame(activity_list)\n",
    "everything = myActivities.copy()\n",
    "myActivities = myActivities[myActivities['type'].astype(str).apply(lambda x: 'Run' in x)]\n",
    "myActivities.head()"
   ],
   "id": "d2e67be9faf623d8",
   "outputs": [
    {
     "ename": "KeyError",
     "evalue": "'type'",
     "output_type": "error",
     "traceback": [
      "\u001B[0;31m---------------------------------------------------------------------------\u001B[0m",
      "\u001B[0;31mKeyError\u001B[0m                                  Traceback (most recent call last)",
      "Cell \u001B[0;32mIn[20], line 21\u001B[0m\n\u001B[1;32m     19\u001B[0m myActivities \u001B[38;5;241m=\u001B[39m pd\u001B[38;5;241m.\u001B[39mDataFrame(activity_list)\n\u001B[1;32m     20\u001B[0m everything \u001B[38;5;241m=\u001B[39m myActivities\u001B[38;5;241m.\u001B[39mcopy()\n\u001B[0;32m---> 21\u001B[0m myActivities \u001B[38;5;241m=\u001B[39m myActivities[\u001B[43mmyActivities\u001B[49m\u001B[43m[\u001B[49m\u001B[38;5;124;43m'\u001B[39;49m\u001B[38;5;124;43mtype\u001B[39;49m\u001B[38;5;124;43m'\u001B[39;49m\u001B[43m]\u001B[49m\u001B[38;5;241m.\u001B[39mastype(\u001B[38;5;28mstr\u001B[39m)\u001B[38;5;241m.\u001B[39mapply(\u001B[38;5;28;01mlambda\u001B[39;00m x: \u001B[38;5;124m'\u001B[39m\u001B[38;5;124mRun\u001B[39m\u001B[38;5;124m'\u001B[39m \u001B[38;5;129;01min\u001B[39;00m x)]\n\u001B[1;32m     22\u001B[0m myActivities\u001B[38;5;241m.\u001B[39mhead()\n",
      "File \u001B[0;32m~/Documents/strava/.venv/lib/python3.12/site-packages/pandas/core/frame.py:4102\u001B[0m, in \u001B[0;36mDataFrame.__getitem__\u001B[0;34m(self, key)\u001B[0m\n\u001B[1;32m   4100\u001B[0m \u001B[38;5;28;01mif\u001B[39;00m \u001B[38;5;28mself\u001B[39m\u001B[38;5;241m.\u001B[39mcolumns\u001B[38;5;241m.\u001B[39mnlevels \u001B[38;5;241m>\u001B[39m \u001B[38;5;241m1\u001B[39m:\n\u001B[1;32m   4101\u001B[0m     \u001B[38;5;28;01mreturn\u001B[39;00m \u001B[38;5;28mself\u001B[39m\u001B[38;5;241m.\u001B[39m_getitem_multilevel(key)\n\u001B[0;32m-> 4102\u001B[0m indexer \u001B[38;5;241m=\u001B[39m \u001B[38;5;28;43mself\u001B[39;49m\u001B[38;5;241;43m.\u001B[39;49m\u001B[43mcolumns\u001B[49m\u001B[38;5;241;43m.\u001B[39;49m\u001B[43mget_loc\u001B[49m\u001B[43m(\u001B[49m\u001B[43mkey\u001B[49m\u001B[43m)\u001B[49m\n\u001B[1;32m   4103\u001B[0m \u001B[38;5;28;01mif\u001B[39;00m is_integer(indexer):\n\u001B[1;32m   4104\u001B[0m     indexer \u001B[38;5;241m=\u001B[39m [indexer]\n",
      "File \u001B[0;32m~/Documents/strava/.venv/lib/python3.12/site-packages/pandas/core/indexes/range.py:417\u001B[0m, in \u001B[0;36mRangeIndex.get_loc\u001B[0;34m(self, key)\u001B[0m\n\u001B[1;32m    415\u001B[0m         \u001B[38;5;28;01mraise\u001B[39;00m \u001B[38;5;167;01mKeyError\u001B[39;00m(key) \u001B[38;5;28;01mfrom\u001B[39;00m\u001B[38;5;250m \u001B[39m\u001B[38;5;21;01merr\u001B[39;00m\n\u001B[1;32m    416\u001B[0m \u001B[38;5;28;01mif\u001B[39;00m \u001B[38;5;28misinstance\u001B[39m(key, Hashable):\n\u001B[0;32m--> 417\u001B[0m     \u001B[38;5;28;01mraise\u001B[39;00m \u001B[38;5;167;01mKeyError\u001B[39;00m(key)\n\u001B[1;32m    418\u001B[0m \u001B[38;5;28mself\u001B[39m\u001B[38;5;241m.\u001B[39m_check_indexing_error(key)\n\u001B[1;32m    419\u001B[0m \u001B[38;5;28;01mraise\u001B[39;00m \u001B[38;5;167;01mKeyError\u001B[39;00m(key)\n",
      "\u001B[0;31mKeyError\u001B[0m: 'type'"
     ]
    }
   ],
   "execution_count": 20
  },
  {
   "metadata": {},
   "cell_type": "code",
   "source": "print(f'Loaded {len(myActivities)} activities from API')",
   "id": "8210f65fcf06d73b",
   "outputs": [],
   "execution_count": null
  },
  {
   "metadata": {},
   "cell_type": "markdown",
   "source": "",
   "id": "294acb4d6ccaf2c4"
  },
  {
   "metadata": {},
   "cell_type": "markdown",
   "source": "## Get Activity Data",
   "id": "e105a2f24148f21b"
  },
  {
   "metadata": {
    "ExecuteTime": {
     "end_time": "2025-01-25T05:01:12.436905Z",
     "start_time": "2025-01-25T05:01:12.434073Z"
    }
   },
   "cell_type": "code",
   "source": [
    "def get_activity_streams(client, activity_id, resolution='high'):\n",
    "    \"\"\"\n",
    "    Fetch heart rate, pace (velocity), and elevation streams for a given activity ID.\n",
    "    \"\"\"\n",
    "    streams = client.get_activity_streams(\n",
    "        activity_id,\n",
    "        types=['heartrate', 'velocity_smooth', 'altitude', 'time', 'distance'],\n",
    "        resolution=resolution,\n",
    "    )\n",
    "    \n",
    "    heart_rate = streams['heartrate'].data if 'heartrate' in streams else None\n",
    "    velocity = streams['velocity_smooth'].data if 'velocity_smooth' in streams else None\n",
    "    elevation = streams['altitude'].data if 'altitude' in streams else None\n",
    "    time_index = streams['time'].data if 'time' in streams else None\n",
    "    distance_index = streams['distance'].data if 'distance' in streams else None\n",
    "    return heart_rate, velocity, elevation, time_index, distance_index"
   ],
   "id": "770e6a0fcda63dff",
   "outputs": [],
   "execution_count": 9
  },
  {
   "metadata": {
    "ExecuteTime": {
     "end_time": "2025-01-25T05:01:12.941272Z",
     "start_time": "2025-01-25T05:01:12.583092Z"
    }
   },
   "cell_type": "code",
   "source": "myActivities['granular data'] = myActivities['id'].apply(lambda x: get_activity_streams(client, x, resolution='high'))",
   "id": "a859923b6e4b3758",
   "outputs": [
    {
     "name": "stderr",
     "output_type": "stream",
     "text": [
      "No rates present in response headers\n"
     ]
    },
    {
     "ename": "AccessUnauthorized",
     "evalue": "Unauthorized: Authorization Error: [{'resource': 'Application', 'field': '', 'code': 'invalid'}]",
     "output_type": "error",
     "traceback": [
      "\u001B[0;31m---------------------------------------------------------------------------\u001B[0m",
      "\u001B[0;31mAccessUnauthorized\u001B[0m                        Traceback (most recent call last)",
      "Cell \u001B[0;32mIn[10], line 1\u001B[0m\n\u001B[0;32m----> 1\u001B[0m myActivities[\u001B[38;5;124m'\u001B[39m\u001B[38;5;124mgranular data\u001B[39m\u001B[38;5;124m'\u001B[39m] \u001B[38;5;241m=\u001B[39m \u001B[43mmyActivities\u001B[49m\u001B[43m[\u001B[49m\u001B[38;5;124;43m'\u001B[39;49m\u001B[38;5;124;43mid\u001B[39;49m\u001B[38;5;124;43m'\u001B[39;49m\u001B[43m]\u001B[49m\u001B[38;5;241;43m.\u001B[39;49m\u001B[43mapply\u001B[49m\u001B[43m(\u001B[49m\u001B[38;5;28;43;01mlambda\u001B[39;49;00m\u001B[43m \u001B[49m\u001B[43mx\u001B[49m\u001B[43m:\u001B[49m\u001B[43m \u001B[49m\u001B[43mget_activity_streams\u001B[49m\u001B[43m(\u001B[49m\u001B[43mclient\u001B[49m\u001B[43m,\u001B[49m\u001B[43m \u001B[49m\u001B[43mx\u001B[49m\u001B[43m,\u001B[49m\u001B[43m \u001B[49m\u001B[43mresolution\u001B[49m\u001B[38;5;241;43m=\u001B[39;49m\u001B[38;5;124;43m'\u001B[39;49m\u001B[38;5;124;43mhigh\u001B[39;49m\u001B[38;5;124;43m'\u001B[39;49m\u001B[43m)\u001B[49m\u001B[43m)\u001B[49m\n",
      "File \u001B[0;32m~/Documents/strava/.venv/lib/python3.12/site-packages/pandas/core/series.py:4924\u001B[0m, in \u001B[0;36mSeries.apply\u001B[0;34m(self, func, convert_dtype, args, by_row, **kwargs)\u001B[0m\n\u001B[1;32m   4789\u001B[0m \u001B[38;5;28;01mdef\u001B[39;00m\u001B[38;5;250m \u001B[39m\u001B[38;5;21mapply\u001B[39m(\n\u001B[1;32m   4790\u001B[0m     \u001B[38;5;28mself\u001B[39m,\n\u001B[1;32m   4791\u001B[0m     func: AggFuncType,\n\u001B[0;32m   (...)\u001B[0m\n\u001B[1;32m   4796\u001B[0m     \u001B[38;5;241m*\u001B[39m\u001B[38;5;241m*\u001B[39mkwargs,\n\u001B[1;32m   4797\u001B[0m ) \u001B[38;5;241m-\u001B[39m\u001B[38;5;241m>\u001B[39m DataFrame \u001B[38;5;241m|\u001B[39m Series:\n\u001B[1;32m   4798\u001B[0m \u001B[38;5;250m    \u001B[39m\u001B[38;5;124;03m\"\"\"\u001B[39;00m\n\u001B[1;32m   4799\u001B[0m \u001B[38;5;124;03m    Invoke function on values of Series.\u001B[39;00m\n\u001B[1;32m   4800\u001B[0m \n\u001B[0;32m   (...)\u001B[0m\n\u001B[1;32m   4915\u001B[0m \u001B[38;5;124;03m    dtype: float64\u001B[39;00m\n\u001B[1;32m   4916\u001B[0m \u001B[38;5;124;03m    \"\"\"\u001B[39;00m\n\u001B[1;32m   4917\u001B[0m     \u001B[38;5;28;01mreturn\u001B[39;00m \u001B[43mSeriesApply\u001B[49m\u001B[43m(\u001B[49m\n\u001B[1;32m   4918\u001B[0m \u001B[43m        \u001B[49m\u001B[38;5;28;43mself\u001B[39;49m\u001B[43m,\u001B[49m\n\u001B[1;32m   4919\u001B[0m \u001B[43m        \u001B[49m\u001B[43mfunc\u001B[49m\u001B[43m,\u001B[49m\n\u001B[1;32m   4920\u001B[0m \u001B[43m        \u001B[49m\u001B[43mconvert_dtype\u001B[49m\u001B[38;5;241;43m=\u001B[39;49m\u001B[43mconvert_dtype\u001B[49m\u001B[43m,\u001B[49m\n\u001B[1;32m   4921\u001B[0m \u001B[43m        \u001B[49m\u001B[43mby_row\u001B[49m\u001B[38;5;241;43m=\u001B[39;49m\u001B[43mby_row\u001B[49m\u001B[43m,\u001B[49m\n\u001B[1;32m   4922\u001B[0m \u001B[43m        \u001B[49m\u001B[43margs\u001B[49m\u001B[38;5;241;43m=\u001B[39;49m\u001B[43margs\u001B[49m\u001B[43m,\u001B[49m\n\u001B[1;32m   4923\u001B[0m \u001B[43m        \u001B[49m\u001B[43mkwargs\u001B[49m\u001B[38;5;241;43m=\u001B[39;49m\u001B[43mkwargs\u001B[49m\u001B[43m,\u001B[49m\n\u001B[0;32m-> 4924\u001B[0m \u001B[43m    \u001B[49m\u001B[43m)\u001B[49m\u001B[38;5;241;43m.\u001B[39;49m\u001B[43mapply\u001B[49m\u001B[43m(\u001B[49m\u001B[43m)\u001B[49m\n",
      "File \u001B[0;32m~/Documents/strava/.venv/lib/python3.12/site-packages/pandas/core/apply.py:1427\u001B[0m, in \u001B[0;36mSeriesApply.apply\u001B[0;34m(self)\u001B[0m\n\u001B[1;32m   1424\u001B[0m     \u001B[38;5;28;01mreturn\u001B[39;00m \u001B[38;5;28mself\u001B[39m\u001B[38;5;241m.\u001B[39mapply_compat()\n\u001B[1;32m   1426\u001B[0m \u001B[38;5;66;03m# self.func is Callable\u001B[39;00m\n\u001B[0;32m-> 1427\u001B[0m \u001B[38;5;28;01mreturn\u001B[39;00m \u001B[38;5;28;43mself\u001B[39;49m\u001B[38;5;241;43m.\u001B[39;49m\u001B[43mapply_standard\u001B[49m\u001B[43m(\u001B[49m\u001B[43m)\u001B[49m\n",
      "File \u001B[0;32m~/Documents/strava/.venv/lib/python3.12/site-packages/pandas/core/apply.py:1507\u001B[0m, in \u001B[0;36mSeriesApply.apply_standard\u001B[0;34m(self)\u001B[0m\n\u001B[1;32m   1501\u001B[0m \u001B[38;5;66;03m# row-wise access\u001B[39;00m\n\u001B[1;32m   1502\u001B[0m \u001B[38;5;66;03m# apply doesn't have a `na_action` keyword and for backward compat reasons\u001B[39;00m\n\u001B[1;32m   1503\u001B[0m \u001B[38;5;66;03m# we need to give `na_action=\"ignore\"` for categorical data.\u001B[39;00m\n\u001B[1;32m   1504\u001B[0m \u001B[38;5;66;03m# TODO: remove the `na_action=\"ignore\"` when that default has been changed in\u001B[39;00m\n\u001B[1;32m   1505\u001B[0m \u001B[38;5;66;03m#  Categorical (GH51645).\u001B[39;00m\n\u001B[1;32m   1506\u001B[0m action \u001B[38;5;241m=\u001B[39m \u001B[38;5;124m\"\u001B[39m\u001B[38;5;124mignore\u001B[39m\u001B[38;5;124m\"\u001B[39m \u001B[38;5;28;01mif\u001B[39;00m \u001B[38;5;28misinstance\u001B[39m(obj\u001B[38;5;241m.\u001B[39mdtype, CategoricalDtype) \u001B[38;5;28;01melse\u001B[39;00m \u001B[38;5;28;01mNone\u001B[39;00m\n\u001B[0;32m-> 1507\u001B[0m mapped \u001B[38;5;241m=\u001B[39m \u001B[43mobj\u001B[49m\u001B[38;5;241;43m.\u001B[39;49m\u001B[43m_map_values\u001B[49m\u001B[43m(\u001B[49m\n\u001B[1;32m   1508\u001B[0m \u001B[43m    \u001B[49m\u001B[43mmapper\u001B[49m\u001B[38;5;241;43m=\u001B[39;49m\u001B[43mcurried\u001B[49m\u001B[43m,\u001B[49m\u001B[43m \u001B[49m\u001B[43mna_action\u001B[49m\u001B[38;5;241;43m=\u001B[39;49m\u001B[43maction\u001B[49m\u001B[43m,\u001B[49m\u001B[43m \u001B[49m\u001B[43mconvert\u001B[49m\u001B[38;5;241;43m=\u001B[39;49m\u001B[38;5;28;43mself\u001B[39;49m\u001B[38;5;241;43m.\u001B[39;49m\u001B[43mconvert_dtype\u001B[49m\n\u001B[1;32m   1509\u001B[0m \u001B[43m\u001B[49m\u001B[43m)\u001B[49m\n\u001B[1;32m   1511\u001B[0m \u001B[38;5;28;01mif\u001B[39;00m \u001B[38;5;28mlen\u001B[39m(mapped) \u001B[38;5;129;01mand\u001B[39;00m \u001B[38;5;28misinstance\u001B[39m(mapped[\u001B[38;5;241m0\u001B[39m], ABCSeries):\n\u001B[1;32m   1512\u001B[0m     \u001B[38;5;66;03m# GH#43986 Need to do list(mapped) in order to get treated as nested\u001B[39;00m\n\u001B[1;32m   1513\u001B[0m     \u001B[38;5;66;03m#  See also GH#25959 regarding EA support\u001B[39;00m\n\u001B[1;32m   1514\u001B[0m     \u001B[38;5;28;01mreturn\u001B[39;00m obj\u001B[38;5;241m.\u001B[39m_constructor_expanddim(\u001B[38;5;28mlist\u001B[39m(mapped), index\u001B[38;5;241m=\u001B[39mobj\u001B[38;5;241m.\u001B[39mindex)\n",
      "File \u001B[0;32m~/Documents/strava/.venv/lib/python3.12/site-packages/pandas/core/base.py:921\u001B[0m, in \u001B[0;36mIndexOpsMixin._map_values\u001B[0;34m(self, mapper, na_action, convert)\u001B[0m\n\u001B[1;32m    918\u001B[0m \u001B[38;5;28;01mif\u001B[39;00m \u001B[38;5;28misinstance\u001B[39m(arr, ExtensionArray):\n\u001B[1;32m    919\u001B[0m     \u001B[38;5;28;01mreturn\u001B[39;00m arr\u001B[38;5;241m.\u001B[39mmap(mapper, na_action\u001B[38;5;241m=\u001B[39mna_action)\n\u001B[0;32m--> 921\u001B[0m \u001B[38;5;28;01mreturn\u001B[39;00m \u001B[43malgorithms\u001B[49m\u001B[38;5;241;43m.\u001B[39;49m\u001B[43mmap_array\u001B[49m\u001B[43m(\u001B[49m\u001B[43marr\u001B[49m\u001B[43m,\u001B[49m\u001B[43m \u001B[49m\u001B[43mmapper\u001B[49m\u001B[43m,\u001B[49m\u001B[43m \u001B[49m\u001B[43mna_action\u001B[49m\u001B[38;5;241;43m=\u001B[39;49m\u001B[43mna_action\u001B[49m\u001B[43m,\u001B[49m\u001B[43m \u001B[49m\u001B[43mconvert\u001B[49m\u001B[38;5;241;43m=\u001B[39;49m\u001B[43mconvert\u001B[49m\u001B[43m)\u001B[49m\n",
      "File \u001B[0;32m~/Documents/strava/.venv/lib/python3.12/site-packages/pandas/core/algorithms.py:1743\u001B[0m, in \u001B[0;36mmap_array\u001B[0;34m(arr, mapper, na_action, convert)\u001B[0m\n\u001B[1;32m   1741\u001B[0m values \u001B[38;5;241m=\u001B[39m arr\u001B[38;5;241m.\u001B[39mastype(\u001B[38;5;28mobject\u001B[39m, copy\u001B[38;5;241m=\u001B[39m\u001B[38;5;28;01mFalse\u001B[39;00m)\n\u001B[1;32m   1742\u001B[0m \u001B[38;5;28;01mif\u001B[39;00m na_action \u001B[38;5;129;01mis\u001B[39;00m \u001B[38;5;28;01mNone\u001B[39;00m:\n\u001B[0;32m-> 1743\u001B[0m     \u001B[38;5;28;01mreturn\u001B[39;00m \u001B[43mlib\u001B[49m\u001B[38;5;241;43m.\u001B[39;49m\u001B[43mmap_infer\u001B[49m\u001B[43m(\u001B[49m\u001B[43mvalues\u001B[49m\u001B[43m,\u001B[49m\u001B[43m \u001B[49m\u001B[43mmapper\u001B[49m\u001B[43m,\u001B[49m\u001B[43m \u001B[49m\u001B[43mconvert\u001B[49m\u001B[38;5;241;43m=\u001B[39;49m\u001B[43mconvert\u001B[49m\u001B[43m)\u001B[49m\n\u001B[1;32m   1744\u001B[0m \u001B[38;5;28;01melse\u001B[39;00m:\n\u001B[1;32m   1745\u001B[0m     \u001B[38;5;28;01mreturn\u001B[39;00m lib\u001B[38;5;241m.\u001B[39mmap_infer_mask(\n\u001B[1;32m   1746\u001B[0m         values, mapper, mask\u001B[38;5;241m=\u001B[39misna(values)\u001B[38;5;241m.\u001B[39mview(np\u001B[38;5;241m.\u001B[39muint8), convert\u001B[38;5;241m=\u001B[39mconvert\n\u001B[1;32m   1747\u001B[0m     )\n",
      "File \u001B[0;32mlib.pyx:2972\u001B[0m, in \u001B[0;36mpandas._libs.lib.map_infer\u001B[0;34m()\u001B[0m\n",
      "Cell \u001B[0;32mIn[10], line 1\u001B[0m, in \u001B[0;36m<lambda>\u001B[0;34m(x)\u001B[0m\n\u001B[0;32m----> 1\u001B[0m myActivities[\u001B[38;5;124m'\u001B[39m\u001B[38;5;124mgranular data\u001B[39m\u001B[38;5;124m'\u001B[39m] \u001B[38;5;241m=\u001B[39m myActivities[\u001B[38;5;124m'\u001B[39m\u001B[38;5;124mid\u001B[39m\u001B[38;5;124m'\u001B[39m]\u001B[38;5;241m.\u001B[39mapply(\u001B[38;5;28;01mlambda\u001B[39;00m x: \u001B[43mget_activity_streams\u001B[49m\u001B[43m(\u001B[49m\u001B[43mclient\u001B[49m\u001B[43m,\u001B[49m\u001B[43m \u001B[49m\u001B[43mx\u001B[49m\u001B[43m,\u001B[49m\u001B[43m \u001B[49m\u001B[43mresolution\u001B[49m\u001B[38;5;241;43m=\u001B[39;49m\u001B[38;5;124;43m'\u001B[39;49m\u001B[38;5;124;43mhigh\u001B[39;49m\u001B[38;5;124;43m'\u001B[39;49m\u001B[43m)\u001B[49m)\n",
      "Cell \u001B[0;32mIn[9], line 5\u001B[0m, in \u001B[0;36mget_activity_streams\u001B[0;34m(client, activity_id, resolution)\u001B[0m\n\u001B[1;32m      1\u001B[0m \u001B[38;5;28;01mdef\u001B[39;00m\u001B[38;5;250m \u001B[39m\u001B[38;5;21mget_activity_streams\u001B[39m(client, activity_id, resolution\u001B[38;5;241m=\u001B[39m\u001B[38;5;124m'\u001B[39m\u001B[38;5;124mhigh\u001B[39m\u001B[38;5;124m'\u001B[39m):\n\u001B[1;32m      2\u001B[0m \u001B[38;5;250m    \u001B[39m\u001B[38;5;124;03m\"\"\"\u001B[39;00m\n\u001B[1;32m      3\u001B[0m \u001B[38;5;124;03m    Fetch heart rate, pace (velocity), and elevation streams for a given activity ID.\u001B[39;00m\n\u001B[1;32m      4\u001B[0m \u001B[38;5;124;03m    \"\"\"\u001B[39;00m\n\u001B[0;32m----> 5\u001B[0m     streams \u001B[38;5;241m=\u001B[39m \u001B[43mclient\u001B[49m\u001B[38;5;241;43m.\u001B[39;49m\u001B[43mget_activity_streams\u001B[49m\u001B[43m(\u001B[49m\n\u001B[1;32m      6\u001B[0m \u001B[43m        \u001B[49m\u001B[43mactivity_id\u001B[49m\u001B[43m,\u001B[49m\n\u001B[1;32m      7\u001B[0m \u001B[43m        \u001B[49m\u001B[43mtypes\u001B[49m\u001B[38;5;241;43m=\u001B[39;49m\u001B[43m[\u001B[49m\u001B[38;5;124;43m'\u001B[39;49m\u001B[38;5;124;43mheartrate\u001B[39;49m\u001B[38;5;124;43m'\u001B[39;49m\u001B[43m,\u001B[49m\u001B[43m \u001B[49m\u001B[38;5;124;43m'\u001B[39;49m\u001B[38;5;124;43mvelocity_smooth\u001B[39;49m\u001B[38;5;124;43m'\u001B[39;49m\u001B[43m,\u001B[49m\u001B[43m \u001B[49m\u001B[38;5;124;43m'\u001B[39;49m\u001B[38;5;124;43maltitude\u001B[39;49m\u001B[38;5;124;43m'\u001B[39;49m\u001B[43m,\u001B[49m\u001B[43m \u001B[49m\u001B[38;5;124;43m'\u001B[39;49m\u001B[38;5;124;43mtime\u001B[39;49m\u001B[38;5;124;43m'\u001B[39;49m\u001B[43m,\u001B[49m\u001B[43m \u001B[49m\u001B[38;5;124;43m'\u001B[39;49m\u001B[38;5;124;43mdistance\u001B[39;49m\u001B[38;5;124;43m'\u001B[39;49m\u001B[43m]\u001B[49m\u001B[43m,\u001B[49m\n\u001B[1;32m      8\u001B[0m \u001B[43m        \u001B[49m\u001B[43mresolution\u001B[49m\u001B[38;5;241;43m=\u001B[39;49m\u001B[43mresolution\u001B[49m\u001B[43m,\u001B[49m\n\u001B[1;32m      9\u001B[0m \u001B[43m    \u001B[49m\u001B[43m)\u001B[49m\n\u001B[1;32m     11\u001B[0m     heart_rate \u001B[38;5;241m=\u001B[39m streams[\u001B[38;5;124m'\u001B[39m\u001B[38;5;124mheartrate\u001B[39m\u001B[38;5;124m'\u001B[39m]\u001B[38;5;241m.\u001B[39mdata \u001B[38;5;28;01mif\u001B[39;00m \u001B[38;5;124m'\u001B[39m\u001B[38;5;124mheartrate\u001B[39m\u001B[38;5;124m'\u001B[39m \u001B[38;5;129;01min\u001B[39;00m streams \u001B[38;5;28;01melse\u001B[39;00m \u001B[38;5;28;01mNone\u001B[39;00m\n\u001B[1;32m     12\u001B[0m     velocity \u001B[38;5;241m=\u001B[39m streams[\u001B[38;5;124m'\u001B[39m\u001B[38;5;124mvelocity_smooth\u001B[39m\u001B[38;5;124m'\u001B[39m]\u001B[38;5;241m.\u001B[39mdata \u001B[38;5;28;01mif\u001B[39;00m \u001B[38;5;124m'\u001B[39m\u001B[38;5;124mvelocity_smooth\u001B[39m\u001B[38;5;124m'\u001B[39m \u001B[38;5;129;01min\u001B[39;00m streams \u001B[38;5;28;01melse\u001B[39;00m \u001B[38;5;28;01mNone\u001B[39;00m\n",
      "File \u001B[0;32m~/Documents/strava/.venv/lib/python3.12/site-packages/stravalib/client.py:1640\u001B[0m, in \u001B[0;36mClient.get_activity_streams\u001B[0;34m(self, activity_id, types, resolution, series_type)\u001B[0m\n\u001B[1;32m   1592\u001B[0m \u001B[38;5;28;01mdef\u001B[39;00m\u001B[38;5;250m \u001B[39m\u001B[38;5;21mget_activity_streams\u001B[39m(\n\u001B[1;32m   1593\u001B[0m     \u001B[38;5;28mself\u001B[39m,\n\u001B[1;32m   1594\u001B[0m     activity_id: \u001B[38;5;28mint\u001B[39m,\n\u001B[0;32m   (...)\u001B[0m\n\u001B[1;32m   1597\u001B[0m     series_type: Literal[\u001B[38;5;124m\"\u001B[39m\u001B[38;5;124mtime\u001B[39m\u001B[38;5;124m\"\u001B[39m, \u001B[38;5;124m\"\u001B[39m\u001B[38;5;124mdistance\u001B[39m\u001B[38;5;124m\"\u001B[39m] \u001B[38;5;241m|\u001B[39m \u001B[38;5;28;01mNone\u001B[39;00m \u001B[38;5;241m=\u001B[39m \u001B[38;5;28;01mNone\u001B[39;00m,\n\u001B[1;32m   1598\u001B[0m ) \u001B[38;5;241m-\u001B[39m\u001B[38;5;241m>\u001B[39m \u001B[38;5;28mdict\u001B[39m[StreamType, model\u001B[38;5;241m.\u001B[39mStream]:\n\u001B[1;32m   1599\u001B[0m \u001B[38;5;250m    \u001B[39m\u001B[38;5;124;03m\"\"\"Returns a stream for an activity.\u001B[39;00m\n\u001B[1;32m   1600\u001B[0m \n\u001B[1;32m   1601\u001B[0m \u001B[38;5;124;03m    https://developers.strava.com/docs/reference/#api-Streams-getActivityStreams\u001B[39;00m\n\u001B[0;32m   (...)\u001B[0m\n\u001B[1;32m   1638\u001B[0m \u001B[38;5;124;03m        A dictionary of :class:`stravalib.model.Stream` from the activity\u001B[39;00m\n\u001B[1;32m   1639\u001B[0m \u001B[38;5;124;03m    \"\"\"\u001B[39;00m\n\u001B[0;32m-> 1640\u001B[0m     \u001B[38;5;28;01mreturn\u001B[39;00m \u001B[38;5;28;43mself\u001B[39;49m\u001B[38;5;241;43m.\u001B[39;49m\u001B[43m_get_streams\u001B[49m\u001B[43m(\u001B[49m\n\u001B[1;32m   1641\u001B[0m \u001B[43m        \u001B[49m\u001B[38;5;124;43mf\u001B[39;49m\u001B[38;5;124;43m\"\u001B[39;49m\u001B[38;5;124;43m/activities/\u001B[39;49m\u001B[38;5;132;43;01m{\u001B[39;49;00m\u001B[43mactivity_id\u001B[49m\u001B[38;5;132;43;01m}\u001B[39;49;00m\u001B[38;5;124;43m/streams\u001B[39;49m\u001B[38;5;124;43m\"\u001B[39;49m\u001B[43m,\u001B[49m\n\u001B[1;32m   1642\u001B[0m \u001B[43m        \u001B[49m\u001B[43mtypes\u001B[49m\u001B[38;5;241;43m=\u001B[39;49m\u001B[43mtypes\u001B[49m\u001B[43m,\u001B[49m\n\u001B[1;32m   1643\u001B[0m \u001B[43m        \u001B[49m\u001B[43mresolution\u001B[49m\u001B[38;5;241;43m=\u001B[39;49m\u001B[43mresolution\u001B[49m\u001B[43m,\u001B[49m\n\u001B[1;32m   1644\u001B[0m \u001B[43m        \u001B[49m\u001B[43mseries_type\u001B[49m\u001B[38;5;241;43m=\u001B[39;49m\u001B[43mseries_type\u001B[49m\u001B[43m,\u001B[49m\n\u001B[1;32m   1645\u001B[0m \u001B[43m    \u001B[49m\u001B[43m)\u001B[49m\n",
      "File \u001B[0;32m~/Documents/strava/.venv/lib/python3.12/site-packages/stravalib/client.py:1584\u001B[0m, in \u001B[0;36mClient._get_streams\u001B[0;34m(self, stream_url, types, resolution, series_type)\u001B[0m\n\u001B[1;32m   1579\u001B[0m     \u001B[38;5;28;01mraise\u001B[39;00m \u001B[38;5;167;01mValueError\u001B[39;00m(\n\u001B[1;32m   1580\u001B[0m         \u001B[38;5;124mf\u001B[39m\u001B[38;5;124m\"\u001B[39m\u001B[38;5;124mTypes \u001B[39m\u001B[38;5;132;01m{\u001B[39;00minvalid_types\u001B[38;5;132;01m}\u001B[39;00m\u001B[38;5;124m not supported by StravaApi\u001B[39m\u001B[38;5;124m\"\u001B[39m\n\u001B[1;32m   1581\u001B[0m     )\n\u001B[1;32m   1582\u001B[0m types_arg \u001B[38;5;241m=\u001B[39m \u001B[38;5;124m\"\u001B[39m\u001B[38;5;124m,\u001B[39m\u001B[38;5;124m\"\u001B[39m\u001B[38;5;241m.\u001B[39mjoin(types)\n\u001B[0;32m-> 1584\u001B[0m response \u001B[38;5;241m=\u001B[39m \u001B[38;5;28;43mself\u001B[39;49m\u001B[38;5;241;43m.\u001B[39;49m\u001B[43mprotocol\u001B[49m\u001B[38;5;241;43m.\u001B[39;49m\u001B[43mget\u001B[49m\u001B[43m(\u001B[49m\n\u001B[1;32m   1585\u001B[0m \u001B[43m    \u001B[49m\u001B[43mstream_url\u001B[49m\u001B[43m,\u001B[49m\u001B[43m \u001B[49m\u001B[43mkeys\u001B[49m\u001B[38;5;241;43m=\u001B[39;49m\u001B[43mtypes_arg\u001B[49m\u001B[43m,\u001B[49m\u001B[43m \u001B[49m\u001B[43mkey_by_type\u001B[49m\u001B[38;5;241;43m=\u001B[39;49m\u001B[38;5;28;43;01mTrue\u001B[39;49;00m\u001B[43m,\u001B[49m\u001B[43m \u001B[49m\u001B[38;5;241;43m*\u001B[39;49m\u001B[38;5;241;43m*\u001B[39;49m\u001B[43mextra_params\u001B[49m\n\u001B[1;32m   1586\u001B[0m \u001B[43m\u001B[49m\u001B[43m)\u001B[49m\n\u001B[1;32m   1587\u001B[0m \u001B[38;5;28;01mreturn\u001B[39;00m {\n\u001B[1;32m   1588\u001B[0m     stream_type: model\u001B[38;5;241m.\u001B[39mStream\u001B[38;5;241m.\u001B[39mmodel_validate(stream)\n\u001B[1;32m   1589\u001B[0m     \u001B[38;5;28;01mfor\u001B[39;00m stream_type, stream \u001B[38;5;129;01min\u001B[39;00m response\u001B[38;5;241m.\u001B[39mitems()\n\u001B[1;32m   1590\u001B[0m }\n",
      "File \u001B[0;32m~/Documents/strava/.venv/lib/python3.12/site-packages/stravalib/protocol.py:443\u001B[0m, in \u001B[0;36mApiV3.get\u001B[0;34m(self, url, check_for_errors, **kwargs)\u001B[0m\n\u001B[1;32m    441\u001B[0m url \u001B[38;5;241m=\u001B[39m url\u001B[38;5;241m.\u001B[39mformat(\u001B[38;5;241m*\u001B[39m\u001B[38;5;241m*\u001B[39mkwargs)\n\u001B[1;32m    442\u001B[0m params \u001B[38;5;241m=\u001B[39m {k: v \u001B[38;5;28;01mfor\u001B[39;00m k, v \u001B[38;5;129;01min\u001B[39;00m kwargs\u001B[38;5;241m.\u001B[39mitems() \u001B[38;5;28;01mif\u001B[39;00m k \u001B[38;5;129;01mnot\u001B[39;00m \u001B[38;5;129;01min\u001B[39;00m referenced}\n\u001B[0;32m--> 443\u001B[0m \u001B[38;5;28;01mreturn\u001B[39;00m \u001B[38;5;28;43mself\u001B[39;49m\u001B[38;5;241;43m.\u001B[39;49m\u001B[43m_request\u001B[49m\u001B[43m(\u001B[49m\n\u001B[1;32m    444\u001B[0m \u001B[43m    \u001B[49m\u001B[43murl\u001B[49m\u001B[43m,\u001B[49m\u001B[43m \u001B[49m\u001B[43mparams\u001B[49m\u001B[38;5;241;43m=\u001B[39;49m\u001B[43mparams\u001B[49m\u001B[43m,\u001B[49m\u001B[43m \u001B[49m\u001B[43mcheck_for_errors\u001B[49m\u001B[38;5;241;43m=\u001B[39;49m\u001B[43mcheck_for_errors\u001B[49m\n\u001B[1;32m    445\u001B[0m \u001B[43m\u001B[49m\u001B[43m)\u001B[49m\n",
      "File \u001B[0;32m~/Documents/strava/.venv/lib/python3.12/site-packages/stravalib/protocol.py:328\u001B[0m, in \u001B[0;36mApiV3._request\u001B[0;34m(self, url, params, files, method, check_for_errors)\u001B[0m\n\u001B[1;32m    325\u001B[0m \u001B[38;5;28mself\u001B[39m\u001B[38;5;241m.\u001B[39mrate_limiter(raw\u001B[38;5;241m.\u001B[39mheaders, method)\n\u001B[1;32m    327\u001B[0m \u001B[38;5;28;01mif\u001B[39;00m check_for_errors:\n\u001B[0;32m--> 328\u001B[0m     \u001B[38;5;28;43mself\u001B[39;49m\u001B[38;5;241;43m.\u001B[39;49m\u001B[43m_handle_protocol_error\u001B[49m\u001B[43m(\u001B[49m\u001B[43mraw\u001B[49m\u001B[43m)\u001B[49m\n\u001B[1;32m    330\u001B[0m \u001B[38;5;66;03m# 204 = No content\u001B[39;00m\n\u001B[1;32m    331\u001B[0m \u001B[38;5;28;01mif\u001B[39;00m raw\u001B[38;5;241m.\u001B[39mstatus_code \u001B[38;5;129;01min\u001B[39;00m [\u001B[38;5;241m204\u001B[39m]:\n",
      "File \u001B[0;32m~/Documents/strava/.venv/lib/python3.12/site-packages/stravalib/protocol.py:372\u001B[0m, in \u001B[0;36mApiV3._handle_protocol_error\u001B[0;34m(self, response)\u001B[0m\n\u001B[1;32m    370\u001B[0m \u001B[38;5;28;01melif\u001B[39;00m response\u001B[38;5;241m.\u001B[39mstatus_code \u001B[38;5;241m==\u001B[39m \u001B[38;5;241m401\u001B[39m:\n\u001B[1;32m    371\u001B[0m     msg \u001B[38;5;241m=\u001B[39m \u001B[38;5;124mf\u001B[39m\u001B[38;5;124m\"\u001B[39m\u001B[38;5;132;01m{\u001B[39;00mresponse\u001B[38;5;241m.\u001B[39mreason\u001B[38;5;132;01m}\u001B[39;00m\u001B[38;5;124m: \u001B[39m\u001B[38;5;132;01m{\u001B[39;00merror_str\u001B[38;5;132;01m}\u001B[39;00m\u001B[38;5;124m\"\u001B[39m\n\u001B[0;32m--> 372\u001B[0m     \u001B[38;5;28;01mraise\u001B[39;00m exc\u001B[38;5;241m.\u001B[39mAccessUnauthorized(msg, response\u001B[38;5;241m=\u001B[39mresponse)\n\u001B[1;32m    373\u001B[0m \u001B[38;5;28;01melif\u001B[39;00m \u001B[38;5;241m400\u001B[39m \u001B[38;5;241m<\u001B[39m\u001B[38;5;241m=\u001B[39m response\u001B[38;5;241m.\u001B[39mstatus_code \u001B[38;5;241m<\u001B[39m \u001B[38;5;241m500\u001B[39m:\n\u001B[1;32m    374\u001B[0m     msg \u001B[38;5;241m=\u001B[39m \u001B[38;5;124m\"\u001B[39m\u001B[38;5;132;01m{}\u001B[39;00m\u001B[38;5;124m Client Error: \u001B[39m\u001B[38;5;132;01m{}\u001B[39;00m\u001B[38;5;124m [\u001B[39m\u001B[38;5;132;01m{}\u001B[39;00m\u001B[38;5;124m]\u001B[39m\u001B[38;5;124m\"\u001B[39m\u001B[38;5;241m.\u001B[39mformat(\n\u001B[1;32m    375\u001B[0m         response\u001B[38;5;241m.\u001B[39mstatus_code,\n\u001B[1;32m    376\u001B[0m         response\u001B[38;5;241m.\u001B[39mreason,\n\u001B[1;32m    377\u001B[0m         error_str,\n\u001B[1;32m    378\u001B[0m     )\n",
      "\u001B[0;31mAccessUnauthorized\u001B[0m: Unauthorized: Authorization Error: [{'resource': 'Application', 'field': '', 'code': 'invalid'}]"
     ]
    }
   ],
   "execution_count": 10
  },
  {
   "metadata": {
    "ExecuteTime": {
     "end_time": "2025-01-25T05:01:13.185256Z",
     "start_time": "2025-01-25T05:01:13.061306Z"
    }
   },
   "cell_type": "code",
   "source": [
    "# Change this to whatever row number you want\n",
    "rowId = 0\n",
    "\n",
    "things = myActivities.iloc[rowId]\n",
    "activityId = things['id']\n",
    "name = things['name']\n",
    "hr, pace, elevation, timeIdx, distanceIdx = get_activity_streams(client, activityId, resolution='high')\n",
    "\n",
    "# Convert to imperial system\n",
    "elevation = [int(round(metersToFeet(elev), 0)) for elev in elevation]\n",
    "timeIdx = [i/60 for i in timeIdx]\n",
    "distanceIdx = [round(metersToMiles(i), 2) for i in distanceIdx]\n",
    "\n",
    "pace = [Pace.from_mps(v) for v in pace if v > 0]"
   ],
   "id": "3aa96be25a4d8c1e",
   "outputs": [
    {
     "name": "stderr",
     "output_type": "stream",
     "text": [
      "No rates present in response headers\n"
     ]
    },
    {
     "ename": "AccessUnauthorized",
     "evalue": "Unauthorized: Authorization Error: [{'resource': 'Application', 'field': '', 'code': 'invalid'}]",
     "output_type": "error",
     "traceback": [
      "\u001B[0;31m---------------------------------------------------------------------------\u001B[0m",
      "\u001B[0;31mAccessUnauthorized\u001B[0m                        Traceback (most recent call last)",
      "Cell \u001B[0;32mIn[11], line 7\u001B[0m\n\u001B[1;32m      5\u001B[0m activityId \u001B[38;5;241m=\u001B[39m things[\u001B[38;5;124m'\u001B[39m\u001B[38;5;124mid\u001B[39m\u001B[38;5;124m'\u001B[39m]\n\u001B[1;32m      6\u001B[0m name \u001B[38;5;241m=\u001B[39m things[\u001B[38;5;124m'\u001B[39m\u001B[38;5;124mname\u001B[39m\u001B[38;5;124m'\u001B[39m]\n\u001B[0;32m----> 7\u001B[0m hr, pace, elevation, timeIdx, distanceIdx \u001B[38;5;241m=\u001B[39m \u001B[43mget_activity_streams\u001B[49m\u001B[43m(\u001B[49m\u001B[43mclient\u001B[49m\u001B[43m,\u001B[49m\u001B[43m \u001B[49m\u001B[43mactivityId\u001B[49m\u001B[43m,\u001B[49m\u001B[43m \u001B[49m\u001B[43mresolution\u001B[49m\u001B[38;5;241;43m=\u001B[39;49m\u001B[38;5;124;43m'\u001B[39;49m\u001B[38;5;124;43mhigh\u001B[39;49m\u001B[38;5;124;43m'\u001B[39;49m\u001B[43m)\u001B[49m\n\u001B[1;32m      9\u001B[0m \u001B[38;5;66;03m# Convert to imperial system\u001B[39;00m\n\u001B[1;32m     10\u001B[0m elevation \u001B[38;5;241m=\u001B[39m [\u001B[38;5;28mint\u001B[39m(\u001B[38;5;28mround\u001B[39m(metersToFeet(elev), \u001B[38;5;241m0\u001B[39m)) \u001B[38;5;28;01mfor\u001B[39;00m elev \u001B[38;5;129;01min\u001B[39;00m elevation]\n",
      "Cell \u001B[0;32mIn[9], line 5\u001B[0m, in \u001B[0;36mget_activity_streams\u001B[0;34m(client, activity_id, resolution)\u001B[0m\n\u001B[1;32m      1\u001B[0m \u001B[38;5;28;01mdef\u001B[39;00m\u001B[38;5;250m \u001B[39m\u001B[38;5;21mget_activity_streams\u001B[39m(client, activity_id, resolution\u001B[38;5;241m=\u001B[39m\u001B[38;5;124m'\u001B[39m\u001B[38;5;124mhigh\u001B[39m\u001B[38;5;124m'\u001B[39m):\n\u001B[1;32m      2\u001B[0m \u001B[38;5;250m    \u001B[39m\u001B[38;5;124;03m\"\"\"\u001B[39;00m\n\u001B[1;32m      3\u001B[0m \u001B[38;5;124;03m    Fetch heart rate, pace (velocity), and elevation streams for a given activity ID.\u001B[39;00m\n\u001B[1;32m      4\u001B[0m \u001B[38;5;124;03m    \"\"\"\u001B[39;00m\n\u001B[0;32m----> 5\u001B[0m     streams \u001B[38;5;241m=\u001B[39m \u001B[43mclient\u001B[49m\u001B[38;5;241;43m.\u001B[39;49m\u001B[43mget_activity_streams\u001B[49m\u001B[43m(\u001B[49m\n\u001B[1;32m      6\u001B[0m \u001B[43m        \u001B[49m\u001B[43mactivity_id\u001B[49m\u001B[43m,\u001B[49m\n\u001B[1;32m      7\u001B[0m \u001B[43m        \u001B[49m\u001B[43mtypes\u001B[49m\u001B[38;5;241;43m=\u001B[39;49m\u001B[43m[\u001B[49m\u001B[38;5;124;43m'\u001B[39;49m\u001B[38;5;124;43mheartrate\u001B[39;49m\u001B[38;5;124;43m'\u001B[39;49m\u001B[43m,\u001B[49m\u001B[43m \u001B[49m\u001B[38;5;124;43m'\u001B[39;49m\u001B[38;5;124;43mvelocity_smooth\u001B[39;49m\u001B[38;5;124;43m'\u001B[39;49m\u001B[43m,\u001B[49m\u001B[43m \u001B[49m\u001B[38;5;124;43m'\u001B[39;49m\u001B[38;5;124;43maltitude\u001B[39;49m\u001B[38;5;124;43m'\u001B[39;49m\u001B[43m,\u001B[49m\u001B[43m \u001B[49m\u001B[38;5;124;43m'\u001B[39;49m\u001B[38;5;124;43mtime\u001B[39;49m\u001B[38;5;124;43m'\u001B[39;49m\u001B[43m,\u001B[49m\u001B[43m \u001B[49m\u001B[38;5;124;43m'\u001B[39;49m\u001B[38;5;124;43mdistance\u001B[39;49m\u001B[38;5;124;43m'\u001B[39;49m\u001B[43m]\u001B[49m\u001B[43m,\u001B[49m\n\u001B[1;32m      8\u001B[0m \u001B[43m        \u001B[49m\u001B[43mresolution\u001B[49m\u001B[38;5;241;43m=\u001B[39;49m\u001B[43mresolution\u001B[49m\u001B[43m,\u001B[49m\n\u001B[1;32m      9\u001B[0m \u001B[43m    \u001B[49m\u001B[43m)\u001B[49m\n\u001B[1;32m     11\u001B[0m     heart_rate \u001B[38;5;241m=\u001B[39m streams[\u001B[38;5;124m'\u001B[39m\u001B[38;5;124mheartrate\u001B[39m\u001B[38;5;124m'\u001B[39m]\u001B[38;5;241m.\u001B[39mdata \u001B[38;5;28;01mif\u001B[39;00m \u001B[38;5;124m'\u001B[39m\u001B[38;5;124mheartrate\u001B[39m\u001B[38;5;124m'\u001B[39m \u001B[38;5;129;01min\u001B[39;00m streams \u001B[38;5;28;01melse\u001B[39;00m \u001B[38;5;28;01mNone\u001B[39;00m\n\u001B[1;32m     12\u001B[0m     velocity \u001B[38;5;241m=\u001B[39m streams[\u001B[38;5;124m'\u001B[39m\u001B[38;5;124mvelocity_smooth\u001B[39m\u001B[38;5;124m'\u001B[39m]\u001B[38;5;241m.\u001B[39mdata \u001B[38;5;28;01mif\u001B[39;00m \u001B[38;5;124m'\u001B[39m\u001B[38;5;124mvelocity_smooth\u001B[39m\u001B[38;5;124m'\u001B[39m \u001B[38;5;129;01min\u001B[39;00m streams \u001B[38;5;28;01melse\u001B[39;00m \u001B[38;5;28;01mNone\u001B[39;00m\n",
      "File \u001B[0;32m~/Documents/strava/.venv/lib/python3.12/site-packages/stravalib/client.py:1640\u001B[0m, in \u001B[0;36mClient.get_activity_streams\u001B[0;34m(self, activity_id, types, resolution, series_type)\u001B[0m\n\u001B[1;32m   1592\u001B[0m \u001B[38;5;28;01mdef\u001B[39;00m\u001B[38;5;250m \u001B[39m\u001B[38;5;21mget_activity_streams\u001B[39m(\n\u001B[1;32m   1593\u001B[0m     \u001B[38;5;28mself\u001B[39m,\n\u001B[1;32m   1594\u001B[0m     activity_id: \u001B[38;5;28mint\u001B[39m,\n\u001B[0;32m   (...)\u001B[0m\n\u001B[1;32m   1597\u001B[0m     series_type: Literal[\u001B[38;5;124m\"\u001B[39m\u001B[38;5;124mtime\u001B[39m\u001B[38;5;124m\"\u001B[39m, \u001B[38;5;124m\"\u001B[39m\u001B[38;5;124mdistance\u001B[39m\u001B[38;5;124m\"\u001B[39m] \u001B[38;5;241m|\u001B[39m \u001B[38;5;28;01mNone\u001B[39;00m \u001B[38;5;241m=\u001B[39m \u001B[38;5;28;01mNone\u001B[39;00m,\n\u001B[1;32m   1598\u001B[0m ) \u001B[38;5;241m-\u001B[39m\u001B[38;5;241m>\u001B[39m \u001B[38;5;28mdict\u001B[39m[StreamType, model\u001B[38;5;241m.\u001B[39mStream]:\n\u001B[1;32m   1599\u001B[0m \u001B[38;5;250m    \u001B[39m\u001B[38;5;124;03m\"\"\"Returns a stream for an activity.\u001B[39;00m\n\u001B[1;32m   1600\u001B[0m \n\u001B[1;32m   1601\u001B[0m \u001B[38;5;124;03m    https://developers.strava.com/docs/reference/#api-Streams-getActivityStreams\u001B[39;00m\n\u001B[0;32m   (...)\u001B[0m\n\u001B[1;32m   1638\u001B[0m \u001B[38;5;124;03m        A dictionary of :class:`stravalib.model.Stream` from the activity\u001B[39;00m\n\u001B[1;32m   1639\u001B[0m \u001B[38;5;124;03m    \"\"\"\u001B[39;00m\n\u001B[0;32m-> 1640\u001B[0m     \u001B[38;5;28;01mreturn\u001B[39;00m \u001B[38;5;28;43mself\u001B[39;49m\u001B[38;5;241;43m.\u001B[39;49m\u001B[43m_get_streams\u001B[49m\u001B[43m(\u001B[49m\n\u001B[1;32m   1641\u001B[0m \u001B[43m        \u001B[49m\u001B[38;5;124;43mf\u001B[39;49m\u001B[38;5;124;43m\"\u001B[39;49m\u001B[38;5;124;43m/activities/\u001B[39;49m\u001B[38;5;132;43;01m{\u001B[39;49;00m\u001B[43mactivity_id\u001B[49m\u001B[38;5;132;43;01m}\u001B[39;49;00m\u001B[38;5;124;43m/streams\u001B[39;49m\u001B[38;5;124;43m\"\u001B[39;49m\u001B[43m,\u001B[49m\n\u001B[1;32m   1642\u001B[0m \u001B[43m        \u001B[49m\u001B[43mtypes\u001B[49m\u001B[38;5;241;43m=\u001B[39;49m\u001B[43mtypes\u001B[49m\u001B[43m,\u001B[49m\n\u001B[1;32m   1643\u001B[0m \u001B[43m        \u001B[49m\u001B[43mresolution\u001B[49m\u001B[38;5;241;43m=\u001B[39;49m\u001B[43mresolution\u001B[49m\u001B[43m,\u001B[49m\n\u001B[1;32m   1644\u001B[0m \u001B[43m        \u001B[49m\u001B[43mseries_type\u001B[49m\u001B[38;5;241;43m=\u001B[39;49m\u001B[43mseries_type\u001B[49m\u001B[43m,\u001B[49m\n\u001B[1;32m   1645\u001B[0m \u001B[43m    \u001B[49m\u001B[43m)\u001B[49m\n",
      "File \u001B[0;32m~/Documents/strava/.venv/lib/python3.12/site-packages/stravalib/client.py:1584\u001B[0m, in \u001B[0;36mClient._get_streams\u001B[0;34m(self, stream_url, types, resolution, series_type)\u001B[0m\n\u001B[1;32m   1579\u001B[0m     \u001B[38;5;28;01mraise\u001B[39;00m \u001B[38;5;167;01mValueError\u001B[39;00m(\n\u001B[1;32m   1580\u001B[0m         \u001B[38;5;124mf\u001B[39m\u001B[38;5;124m\"\u001B[39m\u001B[38;5;124mTypes \u001B[39m\u001B[38;5;132;01m{\u001B[39;00minvalid_types\u001B[38;5;132;01m}\u001B[39;00m\u001B[38;5;124m not supported by StravaApi\u001B[39m\u001B[38;5;124m\"\u001B[39m\n\u001B[1;32m   1581\u001B[0m     )\n\u001B[1;32m   1582\u001B[0m types_arg \u001B[38;5;241m=\u001B[39m \u001B[38;5;124m\"\u001B[39m\u001B[38;5;124m,\u001B[39m\u001B[38;5;124m\"\u001B[39m\u001B[38;5;241m.\u001B[39mjoin(types)\n\u001B[0;32m-> 1584\u001B[0m response \u001B[38;5;241m=\u001B[39m \u001B[38;5;28;43mself\u001B[39;49m\u001B[38;5;241;43m.\u001B[39;49m\u001B[43mprotocol\u001B[49m\u001B[38;5;241;43m.\u001B[39;49m\u001B[43mget\u001B[49m\u001B[43m(\u001B[49m\n\u001B[1;32m   1585\u001B[0m \u001B[43m    \u001B[49m\u001B[43mstream_url\u001B[49m\u001B[43m,\u001B[49m\u001B[43m \u001B[49m\u001B[43mkeys\u001B[49m\u001B[38;5;241;43m=\u001B[39;49m\u001B[43mtypes_arg\u001B[49m\u001B[43m,\u001B[49m\u001B[43m \u001B[49m\u001B[43mkey_by_type\u001B[49m\u001B[38;5;241;43m=\u001B[39;49m\u001B[38;5;28;43;01mTrue\u001B[39;49;00m\u001B[43m,\u001B[49m\u001B[43m \u001B[49m\u001B[38;5;241;43m*\u001B[39;49m\u001B[38;5;241;43m*\u001B[39;49m\u001B[43mextra_params\u001B[49m\n\u001B[1;32m   1586\u001B[0m \u001B[43m\u001B[49m\u001B[43m)\u001B[49m\n\u001B[1;32m   1587\u001B[0m \u001B[38;5;28;01mreturn\u001B[39;00m {\n\u001B[1;32m   1588\u001B[0m     stream_type: model\u001B[38;5;241m.\u001B[39mStream\u001B[38;5;241m.\u001B[39mmodel_validate(stream)\n\u001B[1;32m   1589\u001B[0m     \u001B[38;5;28;01mfor\u001B[39;00m stream_type, stream \u001B[38;5;129;01min\u001B[39;00m response\u001B[38;5;241m.\u001B[39mitems()\n\u001B[1;32m   1590\u001B[0m }\n",
      "File \u001B[0;32m~/Documents/strava/.venv/lib/python3.12/site-packages/stravalib/protocol.py:443\u001B[0m, in \u001B[0;36mApiV3.get\u001B[0;34m(self, url, check_for_errors, **kwargs)\u001B[0m\n\u001B[1;32m    441\u001B[0m url \u001B[38;5;241m=\u001B[39m url\u001B[38;5;241m.\u001B[39mformat(\u001B[38;5;241m*\u001B[39m\u001B[38;5;241m*\u001B[39mkwargs)\n\u001B[1;32m    442\u001B[0m params \u001B[38;5;241m=\u001B[39m {k: v \u001B[38;5;28;01mfor\u001B[39;00m k, v \u001B[38;5;129;01min\u001B[39;00m kwargs\u001B[38;5;241m.\u001B[39mitems() \u001B[38;5;28;01mif\u001B[39;00m k \u001B[38;5;129;01mnot\u001B[39;00m \u001B[38;5;129;01min\u001B[39;00m referenced}\n\u001B[0;32m--> 443\u001B[0m \u001B[38;5;28;01mreturn\u001B[39;00m \u001B[38;5;28;43mself\u001B[39;49m\u001B[38;5;241;43m.\u001B[39;49m\u001B[43m_request\u001B[49m\u001B[43m(\u001B[49m\n\u001B[1;32m    444\u001B[0m \u001B[43m    \u001B[49m\u001B[43murl\u001B[49m\u001B[43m,\u001B[49m\u001B[43m \u001B[49m\u001B[43mparams\u001B[49m\u001B[38;5;241;43m=\u001B[39;49m\u001B[43mparams\u001B[49m\u001B[43m,\u001B[49m\u001B[43m \u001B[49m\u001B[43mcheck_for_errors\u001B[49m\u001B[38;5;241;43m=\u001B[39;49m\u001B[43mcheck_for_errors\u001B[49m\n\u001B[1;32m    445\u001B[0m \u001B[43m\u001B[49m\u001B[43m)\u001B[49m\n",
      "File \u001B[0;32m~/Documents/strava/.venv/lib/python3.12/site-packages/stravalib/protocol.py:328\u001B[0m, in \u001B[0;36mApiV3._request\u001B[0;34m(self, url, params, files, method, check_for_errors)\u001B[0m\n\u001B[1;32m    325\u001B[0m \u001B[38;5;28mself\u001B[39m\u001B[38;5;241m.\u001B[39mrate_limiter(raw\u001B[38;5;241m.\u001B[39mheaders, method)\n\u001B[1;32m    327\u001B[0m \u001B[38;5;28;01mif\u001B[39;00m check_for_errors:\n\u001B[0;32m--> 328\u001B[0m     \u001B[38;5;28;43mself\u001B[39;49m\u001B[38;5;241;43m.\u001B[39;49m\u001B[43m_handle_protocol_error\u001B[49m\u001B[43m(\u001B[49m\u001B[43mraw\u001B[49m\u001B[43m)\u001B[49m\n\u001B[1;32m    330\u001B[0m \u001B[38;5;66;03m# 204 = No content\u001B[39;00m\n\u001B[1;32m    331\u001B[0m \u001B[38;5;28;01mif\u001B[39;00m raw\u001B[38;5;241m.\u001B[39mstatus_code \u001B[38;5;129;01min\u001B[39;00m [\u001B[38;5;241m204\u001B[39m]:\n",
      "File \u001B[0;32m~/Documents/strava/.venv/lib/python3.12/site-packages/stravalib/protocol.py:372\u001B[0m, in \u001B[0;36mApiV3._handle_protocol_error\u001B[0;34m(self, response)\u001B[0m\n\u001B[1;32m    370\u001B[0m \u001B[38;5;28;01melif\u001B[39;00m response\u001B[38;5;241m.\u001B[39mstatus_code \u001B[38;5;241m==\u001B[39m \u001B[38;5;241m401\u001B[39m:\n\u001B[1;32m    371\u001B[0m     msg \u001B[38;5;241m=\u001B[39m \u001B[38;5;124mf\u001B[39m\u001B[38;5;124m\"\u001B[39m\u001B[38;5;132;01m{\u001B[39;00mresponse\u001B[38;5;241m.\u001B[39mreason\u001B[38;5;132;01m}\u001B[39;00m\u001B[38;5;124m: \u001B[39m\u001B[38;5;132;01m{\u001B[39;00merror_str\u001B[38;5;132;01m}\u001B[39;00m\u001B[38;5;124m\"\u001B[39m\n\u001B[0;32m--> 372\u001B[0m     \u001B[38;5;28;01mraise\u001B[39;00m exc\u001B[38;5;241m.\u001B[39mAccessUnauthorized(msg, response\u001B[38;5;241m=\u001B[39mresponse)\n\u001B[1;32m    373\u001B[0m \u001B[38;5;28;01melif\u001B[39;00m \u001B[38;5;241m400\u001B[39m \u001B[38;5;241m<\u001B[39m\u001B[38;5;241m=\u001B[39m response\u001B[38;5;241m.\u001B[39mstatus_code \u001B[38;5;241m<\u001B[39m \u001B[38;5;241m500\u001B[39m:\n\u001B[1;32m    374\u001B[0m     msg \u001B[38;5;241m=\u001B[39m \u001B[38;5;124m\"\u001B[39m\u001B[38;5;132;01m{}\u001B[39;00m\u001B[38;5;124m Client Error: \u001B[39m\u001B[38;5;132;01m{}\u001B[39;00m\u001B[38;5;124m [\u001B[39m\u001B[38;5;132;01m{}\u001B[39;00m\u001B[38;5;124m]\u001B[39m\u001B[38;5;124m\"\u001B[39m\u001B[38;5;241m.\u001B[39mformat(\n\u001B[1;32m    375\u001B[0m         response\u001B[38;5;241m.\u001B[39mstatus_code,\n\u001B[1;32m    376\u001B[0m         response\u001B[38;5;241m.\u001B[39mreason,\n\u001B[1;32m    377\u001B[0m         error_str,\n\u001B[1;32m    378\u001B[0m     )\n",
      "\u001B[0;31mAccessUnauthorized\u001B[0m: Unauthorized: Authorization Error: [{'resource': 'Application', 'field': '', 'code': 'invalid'}]"
     ]
    }
   ],
   "execution_count": 11
  },
  {
   "metadata": {},
   "cell_type": "markdown",
   "source": "## Interactive Plots",
   "id": "471e7a59554266c0"
  },
  {
   "metadata": {},
   "cell_type": "code",
   "source": [
    "def numericPlot(base, items):\n",
    "    data = pd.DataFrame({\n",
    "        base: items,\n",
    "        'Time': timeIdx,\n",
    "        'Distance': distanceIdx\n",
    "    })\n",
    "    return data"
   ],
   "id": "8523d75eed1788d9",
   "outputs": [],
   "execution_count": null
  },
  {
   "metadata": {},
   "cell_type": "markdown",
   "source": "### Pace",
   "id": "bdd92ad403876536"
  },
  {
   "metadata": {},
   "cell_type": "code",
   "source": [
    "diff = len(timeIdx) - len(pace)\n",
    "average = sum(pace)/len(pace)\n",
    "x = pace + [average] * diff\n",
    "\n",
    "stuff = numericPlot('Pace', x)\n",
    "myPaces = stuff['Pace']\n",
    "index = stuff['Time']\n",
    "\n",
    "y_values = [pace.time/60 for pace in myPaces]\n",
    "labels = [str(pace) for pace in myPaces]"
   ],
   "id": "22e0acd1773fec26",
   "outputs": [],
   "execution_count": null
  },
  {
   "metadata": {},
   "cell_type": "code",
   "source": [
    "import plotly.graph_objects as go\n",
    "\n",
    "# Create the plot\n",
    "fig = go.Figure(data=go.Scatter(\n",
    "    x=index,\n",
    "    y=y_values,\n",
    "    mode='markers+lines',\n",
    "    text=[f\"{str(pace)}, {hr[i]} BPM\" for i, pace in enumerate(myPaces)],\n",
    "    marker=dict(color=hr, colorscale='solar', colorbar=dict(title='Heart Rate'))\n",
    "))\n",
    "\n",
    "fig.update_layout(\n",
    "    title='Pace Plot',\n",
    "    xaxis_title='Time',\n",
    "    yaxis_title='Pace (min/mi)'\n",
    ")\n",
    "fig.show()\n",
    "print(data.columns)"
   ],
   "id": "e80aa16c95878f02",
   "outputs": [],
   "execution_count": null
  },
  {
   "metadata": {},
   "cell_type": "code",
   "source": [
    "index = stuff['Distance']\n",
    "\n",
    "y_values = [pace.time/60 for pace in myPaces]\n",
    "labels = [str(pace) for pace in myPaces]\n",
    "\n",
    "# Create the plot\n",
    "fig = go.Figure(data=go.Scatter(\n",
    "    x=index,\n",
    "    y=y_values,\n",
    "    mode='markers+lines',\n",
    "    text=[f\"{str(pace)}, {hr[i]} BPM\" for i, pace in enumerate(myPaces)],\n",
    "    marker=dict(color=hr, colorscale='solar', colorbar=dict(title='Heart Rate'))\n",
    "))\n",
    "\n",
    "fig.update_layout(\n",
    "    title='Pace Plot',\n",
    "    xaxis_title='Distance',\n",
    "    yaxis_title='Pace (min/mi)'\n",
    ")\n",
    "fig.show()"
   ],
   "id": "d9ed79876b8f9e9d",
   "outputs": [],
   "execution_count": null
  },
  {
   "metadata": {},
   "cell_type": "markdown",
   "source": "### HR",
   "id": "19b31ef82a0ba43b"
  },
  {
   "metadata": {},
   "cell_type": "code",
   "source": [
    "zones = client.get_athlete_zones().dict()\n",
    "values = zones['heart_rate']['zones'][:-1]"
   ],
   "id": "ce0865ea8f63d56f",
   "outputs": [],
   "execution_count": null
  },
  {
   "metadata": {},
   "cell_type": "code",
   "source": [
    "def getZone(hr):\n",
    "    n = len(values)\n",
    "    assert hr >= 0, 'HR must be non-negative'\n",
    "    for i in range(n):\n",
    "        bucket = values[i]\n",
    "        if bucket['min'] <= hr <= bucket['max']:\n",
    "            return f'Zone {i+1}'\n",
    "    raise ValueError(f'HR {hr} is out of range')"
   ],
   "id": "ee7016a734de0e39",
   "outputs": [],
   "execution_count": null
  },
  {
   "metadata": {},
   "cell_type": "code",
   "source": [
    "base = 'HR'\n",
    "data = numericPlot(base, hr)\n",
    "try:\n",
    "    data['Zone']\n",
    "except:\n",
    "    data['Zone'] = data[base].apply(getZone)\n",
    "fig = go.Figure()"
   ],
   "id": "302969392a792587",
   "outputs": [],
   "execution_count": null
  },
  {
   "metadata": {},
   "cell_type": "code",
   "source": [
    "zone_colors = {\n",
    "    'Zone 1': 'green',\n",
    "    'Zone 2': 'yellow',\n",
    "    'Zone 3': 'orange',\n",
    "    'Zone 4': 'red'\n",
    "}\n",
    "\n",
    "# Create the figure\n",
    "fig = go.Figure()\n",
    "\n",
    "# Add traces for each zone\n",
    "for zone in data['Zone'].unique():\n",
    "    zone_data = data[data['Zone'] == zone]\n",
    "    fig.add_trace(go.Scatter(\n",
    "        x=zone_data['Time'],\n",
    "        y=zone_data['HR'],\n",
    "        mode='lines',\n",
    "        name=zone,\n",
    "        line=dict(color=zone_colors[zone], width=1)  # Assign color based on zone\n",
    "    ))\n",
    "\n",
    "fig.update_layout(\n",
    "    title=f'{base}: {name}',\n",
    "    xaxis_title='Time',\n",
    "    yaxis_title=base,\n",
    "    autosize=False,\n",
    "    width=800,\n",
    "    height=600\n",
    ")\n",
    "\n",
    "fig.show()\n",
    "print(data.columns)"
   ],
   "id": "bb971e195afb78b9",
   "outputs": [],
   "execution_count": null
  },
  {
   "metadata": {},
   "cell_type": "code",
   "source": [
    "# Create the figure\n",
    "fig = go.Figure()\n",
    "\n",
    "# Add traces for each zone using Distance as the x-axis\n",
    "for zone in data['Zone'].unique():\n",
    "    zone_data = data[data['Zone'] == zone]\n",
    "    fig.add_trace(go.Scatter(\n",
    "        x=zone_data['Distance'],\n",
    "        y=zone_data['HR'],\n",
    "        mode='lines',\n",
    "        name=zone,\n",
    "        line=dict(color=zone_colors[zone], width=1)  # Assign color based on zone\n",
    "    ))\n",
    "\n",
    "fig.update_layout(\n",
    "    title=f'{base}: {name}',\n",
    "    xaxis_title='Distance',\n",
    "    yaxis_title=base,\n",
    "    autosize=False,\n",
    "    width=800,\n",
    "    height=600\n",
    ")\n",
    "print(data.columns)\n",
    "fig.show()"
   ],
   "id": "b18488a53d28eed1",
   "outputs": [],
   "execution_count": null
  },
  {
   "metadata": {},
   "cell_type": "code",
   "source": [
    "data['Pace'] = x\n",
    "\n",
    "grouped = data.groupby('Zone').mean()\n",
    "minimums = data.groupby('Zone').min()\n",
    "maximums = data.groupby('Zone').max()\n",
    "minimums['Pace'] = minimums['Pace'].apply(lambda x: x.time).apply(lambda j: Pace.fromSeconds(j))\n",
    "maximums['Pace'] = maximums['Pace'].apply(lambda x: x.time).apply(lambda j: Pace.fromSeconds(j))\n",
    "for z in grouped.index:\n",
    "    print(f'{z} Average Pace: {Pace.fromSeconds(grouped.loc[z, \"Pace\"])}')"
   ],
   "id": "734920e7ee00a04d",
   "outputs": [],
   "execution_count": null
  },
  {
   "metadata": {},
   "cell_type": "code",
   "source": "print(data.columns)",
   "id": "4165ec7ea558f3ba",
   "outputs": [],
   "execution_count": null
  },
  {
   "metadata": {},
   "cell_type": "code",
   "source": [
    "for z in minimums.index:\n",
    "    print(f'{z} Range: {minimums.loc[z, \"Pace\"]} to {maximums.loc[z, \"Pace\"]}')"
   ],
   "id": "7b0603043a75e14b",
   "outputs": [],
   "execution_count": null
  },
  {
   "metadata": {},
   "cell_type": "code",
   "source": [
    "import pandas as pd\n",
    "import plotly.express as px\n",
    "from units import MILES  # Assuming `units` is a module with MILES and KILOMETERS constants\n",
    "\n",
    "# Example DataFrame with custom Pace objects\n",
    "theThings = pd.DataFrame({\n",
    "    'Zone': ['Zone 1', 'Zone 2', 'Zone 3', 'Zone 1', 'Zone 2', 'Zone 3'],\n",
    "    'Pace': [\n",
    "        Pace(5, 30, MILES),  # 5:30/mile\n",
    "        Pace(6, 0, MILES),   # 6:00/mile\n",
    "        Pace(5, 45, MILES),  # 5:45/mile\n",
    "        Pace(5, 50, MILES),  # 5:50/mile\n",
    "        Pace(6, 10, MILES),  # 6:10/mile\n",
    "        Pace(5, 40, MILES)   # 5:40/mile\n",
    "    ]\n",
    "})\n",
    "\n",
    "# Convert Pace objects to total seconds for plotting\n",
    "theThings['Pace (seconds)'] = theThings['Pace'].apply(lambda p: p.time)\n",
    "\n",
    "# Add a column with string representations of the Pace objects\n",
    "theThings['Pace (string)'] = theThings['Pace'].apply(str)\n",
    "\n",
    "# Create the boxplot\n",
    "fig = px.box(\n",
    "    theThings,\n",
    "    x='Zone',\n",
    "    y='Pace (seconds)',\n",
    "    title='Pace Distribution by Heart Rate Zone',\n",
    "    hover_data={'Pace (string)': True}  # Show string representation in tooltip\n",
    ")\n",
    "\n",
    "# Update layout for better visualization\n",
    "fig.update_layout(\n",
    "    xaxis_title='Heart Rate Zone',\n",
    "    yaxis_title='Pace (seconds)',\n",
    "    autosize=False,\n",
    "    width=800,\n",
    "    height=600\n",
    ")\n",
    "\n",
    "# Show the plot\n",
    "fig.show()"
   ],
   "id": "4de38cedf96a9776",
   "outputs": [],
   "execution_count": null
  },
  {
   "metadata": {},
   "cell_type": "code",
   "source": [
    "data['PaceTime'] = data['Pace'].apply(lambda x: x.time)\n",
    "data['PaceStr'] = data['Pace'].astype(str)"
   ],
   "id": "5630aa45fe7743",
   "outputs": [],
   "execution_count": null
  },
  {
   "metadata": {},
   "cell_type": "code",
   "source": [
    "import pandas as pd\n",
    "import plotly.graph_objects as go\n",
    "\n",
    "# Assuming `data` is your DataFrame with the following columns:\n",
    "# 'Zone' (Heart Rate Zone), 'Distance', 'PaceTime' (numeric pace in seconds), 'PaceStr' (string representation of pace)\n",
    "\n",
    "# Function to filter out outliers using the 1.5 x IQR rule\n",
    "def exclude_outliers(df, column):\n",
    "    q1 = df[column].quantile(0.25)  # First quartile (25th percentile)\n",
    "    q3 = df[column].quantile(0.75)  # Third quartile (75th percentile)\n",
    "    iqr = q3-q1\n",
    "    lower_fence = q1 - 1.5 * iqr\n",
    "    upper_fence = q3 + 1.5 * iqr\n",
    "    return df[(df[column] >= lower_fence) & (df[column] <= upper_fence)]  # Filter data within fences\n",
    "\n",
    "# Apply the outlier exclusion function to each zone\n",
    "filtered_data = pd.concat([\n",
    "    exclude_outliers(data[data['Zone'] == zone], 'PaceTime')\n",
    "    for zone in data['Zone'].unique()\n",
    "])\n",
    "\n",
    "# Create the boxplot\n",
    "fig = go.Figure()\n",
    "\n",
    "# Add a box trace for each heart rate zone\n",
    "for zone in filtered_data['Zone'].unique():\n",
    "    zone_data = filtered_data[filtered_data['Zone'] == zone]\n",
    "    fig.add_trace(go.Box(\n",
    "        y=zone_data['PaceTime'],  # Numeric pace values for the boxplot\n",
    "        x=[zone] * len(zone_data),  # Use the zone as the x-axis category\n",
    "        name=zone,  # Name of the trace (zone)\n",
    "        text=zone_data['PaceStr'],  # Tooltip labels (string representation of pace)\n",
    "        hovertemplate='Zone: %{x}<br>Pace: %{text}<extra></extra>',  # Custom tooltip format\n",
    "        boxmean=True  # Show mean as a dashed line\n",
    "    ))\n",
    "\n",
    "# Update layout for better visualization\n",
    "fig.update_layout(\n",
    "    title='Pace Distribution by Heart Rate Zone (Outliers Excluded)',\n",
    "    xaxis_title='Heart Rate Zone',\n",
    "    yaxis_title='Pace (seconds)',\n",
    "    autosize=False,\n",
    "    width=800,\n",
    "    height=600\n",
    ")\n",
    "\n",
    "# Show the plot\n",
    "fig.show()"
   ],
   "id": "a532e8937f7807a4",
   "outputs": [],
   "execution_count": null
  },
  {
   "metadata": {},
   "cell_type": "markdown",
   "source": "### Elevation",
   "id": "e64c28596c8036c8"
  },
  {
   "metadata": {},
   "cell_type": "code",
   "source": [
    "data = numericPlot('Elevation', elevation)\n",
    "fig = px.line(data, x='Time', y='Elevation', title=f'Elevation: {name}')\n",
    "fig.update_layout(autosize=False, width=800, height=600)\n",
    "fig.show()"
   ],
   "id": "49c0a63d186ac072",
   "outputs": [],
   "execution_count": null
  },
  {
   "metadata": {},
   "cell_type": "code",
   "source": [
    "fig = px.line(data, x='Distance', y='Elevation', title=f'Elevation: {name}')\n",
    "fig.update_layout(autosize=False, width=800, height=600)\n",
    "fig.show()"
   ],
   "id": "4971c11ad9844313",
   "outputs": [],
   "execution_count": null
  },
  {
   "metadata": {},
   "cell_type": "code",
   "source": "metersToFeet(max(elevation)) - metersToFeet(min(elevation))",
   "id": "e43589e84089b8f4",
   "outputs": [],
   "execution_count": null
  },
  {
   "metadata": {},
   "cell_type": "code",
   "source": "metersToFeet(float(things['total_elevation_gain']))",
   "id": "cc50c36cb6d42539",
   "outputs": [],
   "execution_count": null
  },
  {
   "metadata": {},
   "cell_type": "markdown",
   "source": "## HR-Pace Correlation",
   "id": "a93ed20d2a2e2e7d"
  },
  {
   "metadata": {},
   "cell_type": "code",
   "source": [
    "x = data[['HR', 'PaceTime']]\n",
    "x['PaceTime'] = x['PaceTime'].apply(lambda a: a/60)\n",
    "correlation = x.corr()['HR']['PaceTime']\n",
    "float(correlation)"
   ],
   "id": "47ef52048b87807f",
   "outputs": [],
   "execution_count": null
  },
  {
   "metadata": {},
   "cell_type": "code",
   "source": [
    "fig = px.scatter(x, x='HR', y='PaceTime', title='Scatter Plot of HR by Pace', text=float(correlation))\n",
    "fig.show()"
   ],
   "id": "5e54b6a70a2f2796",
   "outputs": [],
   "execution_count": null
  },
  {
   "metadata": {},
   "cell_type": "code",
   "outputs": [],
   "execution_count": null,
   "source": "",
   "id": "b4616a8c4afd4f1"
  },
  {
   "metadata": {},
   "cell_type": "markdown",
   "source": "## Elevation Gradient",
   "id": "24d26f5321d00e8"
  },
  {
   "metadata": {
    "ExecuteTime": {
     "end_time": "2025-01-24T20:38:24.970576Z",
     "start_time": "2025-01-24T20:38:24.968347Z"
    }
   },
   "cell_type": "code",
   "source": [
    "def gradient(arr):\n",
    "    slopes = []\n",
    "    for i in range(len(arr)):\n",
    "        if i == 0:\n",
    "            rise = i\n",
    "        else:\n",
    "            rise = arr[i] - arr[i-1]\n",
    "        slopes.append(rise)\n",
    "    return slopes\n",
    "gradient([1,2,3,-3,1])"
   ],
   "id": "a8180ed318f6d74e",
   "outputs": [
    {
     "data": {
      "text/plain": [
       "[0, 1, 1, -6, 4]"
      ]
     },
     "execution_count": 6,
     "metadata": {},
     "output_type": "execute_result"
    }
   ],
   "execution_count": 6
  },
  {
   "metadata": {},
   "cell_type": "code",
   "outputs": [],
   "execution_count": null,
   "source": "",
   "id": "1ea7e231ecb4c7e0"
  }
 ],
 "metadata": {
  "kernelspec": {
   "display_name": "Python 3",
   "language": "python",
   "name": "python3"
  },
  "language_info": {
   "codemirror_mode": {
    "name": "ipython",
    "version": 2
   },
   "file_extension": ".py",
   "mimetype": "text/x-python",
   "name": "python",
   "nbconvert_exporter": "python",
   "pygments_lexer": "ipython2",
   "version": "2.7.6"
  }
 },
 "nbformat": 4,
 "nbformat_minor": 5
}
