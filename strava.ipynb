{
 "cells": [
  {
   "cell_type": "code",
   "id": "initial_id",
   "metadata": {
    "collapsed": true
   },
   "source": [
    "import pandas as pd\n",
    "import numpy as np\n",
    "from stravalib import Client\n",
    "import webbrowser\n",
    "from Pace import Pace\n",
    "from units import *\n",
    "import plotly.express as px\n",
    "import plotly.graph_objects as go\n",
    "import matplotlib.pyplot as plt\n",
    "import webbrowser\n",
    "from functions import *\n",
    "from tqdm import tqdm\n",
    "import pickle"
   ],
   "outputs": [],
   "execution_count": null
  },
  {
   "metadata": {},
   "cell_type": "code",
   "source": [
    "client = Client()\n",
    "client_id = 145799\n",
    "client_secret = 'bd21c12ed936cfa96efc06b5b7ab37660c5629db'\n",
    "redirect_uri = 'http://localhost:8282/authorized'"
   ],
   "id": "d229ad351086c482",
   "outputs": [],
   "execution_count": null
  },
  {
   "metadata": {},
   "cell_type": "markdown",
   "source": "## Generate authorization code",
   "id": "f6a4a50fdc596769"
  },
  {
   "metadata": {},
   "cell_type": "code",
   "source": [
    "def getCode():\n",
    "    authorize_url = client.authorization_url(client_id=client_id, \n",
    "                                             redirect_uri=redirect_uri,\n",
    "                                             scope=['read_all', 'profile:read_all', 'activity:read_all'])\n",
    "    webbrowser.open(authorize_url)\n",
    "    code = input(\"Enter the code: \")\n",
    "    return code"
   ],
   "id": "958109f4b7a7217a",
   "outputs": [],
   "execution_count": null
  },
  {
   "metadata": {},
   "cell_type": "code",
   "source": [
    "# read the client from the pickle file\n",
    "try:\n",
    "    client = pickle.load(open(PKL, 'rb'))\n",
    "    print('Client loaded from file')\n",
    "except:\n",
    "    print('You must authenticate - run below cell.')"
   ],
   "id": "3f51fb3ac3a80a20",
   "outputs": [],
   "execution_count": null
  },
  {
   "metadata": {},
   "cell_type": "code",
   "source": [
    "import pickle\n",
    "\n",
    "if client.access_token is None:    \n",
    "    authorize_url = client.authorization_url(client_id=client_id, \n",
    "                                             redirect_uri=redirect_uri,\n",
    "                                             scope=['read_all', 'profile:read_all', 'activity:read_all'])\n",
    "    \n",
    "    # Open the authorization URL in a web browser\n",
    "    webbrowser.open(authorize_url)\n",
    "    \n",
    "    # After authorization, you'll be redirected to a URL. Copy the 'code' parameter from this URL\n",
    "    code = input(\"Enter the code: \")\n",
    "    \n",
    "    # Exchange the code for a token\n",
    "    token_response = client.exchange_code_for_token(client_id=client_id, \n",
    "                                                    client_secret=client_secret, \n",
    "                                                    code=code)\n",
    "    \n",
    "    # Now you can use the access token to make API requests\n",
    "    access_token = token_response['access_token']\n",
    "    client.access_token = access_token\n",
    "\n",
    "print('Authenticated')"
   ],
   "id": "1899dc46aae45ce6",
   "outputs": [],
   "execution_count": null
  },
  {
   "metadata": {},
   "cell_type": "code",
   "source": [
    "with open(PKL, 'wb') as pkl:\n",
    "    pickle.dump(client, pkl)\n",
    "print('Client saved to file. Access code: ', client.access_token)"
   ],
   "id": "4d5b14c5ac32c3a",
   "outputs": [],
   "execution_count": null
  },
  {
   "metadata": {},
   "cell_type": "markdown",
   "source": "## Get Athlete Profile",
   "id": "b985ed2081410efe"
  },
  {
   "metadata": {},
   "cell_type": "code",
   "source": "myActivities = pd.read_csv('myActivities.csv')",
   "id": "259c576dcf753f7",
   "outputs": [],
   "execution_count": null
  },
  {
   "metadata": {},
   "cell_type": "code",
   "source": [
    "activities = client.get_activities()\n",
    "activity_list = []\n",
    "try:\n",
    "    for activity in activities:\n",
    "        activity_dict = {\n",
    "            'id': activity.id,\n",
    "            'name': activity.name,\n",
    "            'start_date': activity.start_date,\n",
    "            'distance': activity.distance,  # Convert distance to numeric (meters)\n",
    "            'moving_time': activity.moving_time,  # Convert to seconds\n",
    "            'elapsed_time': activity.elapsed_time,  # Convert to seconds\n",
    "            'total_elevation_gain': activity.total_elevation_gain,\n",
    "            'type': activity.type,\n",
    "            'average_speed': activity.average_speed if activity.average_speed else None,  # Convert to numeric\n",
    "            'max_speed': activity.max_speed if activity.max_speed else None,  # Convert to numeric\n",
    "            'average_heartrate': activity.average_heartrate,\n",
    "            'max_heartrate': activity.max_heartrate,\n",
    "        }\n",
    "        activity_list.append(activity_dict)\n",
    "    myActivities = pd.DataFrame(activity_list)\n",
    "    everything = myActivities.copy()\n",
    "    myActivities = myActivities[myActivities['type'].astype(str).apply(lambda x: 'Run' in x)]\n",
    "except:\n",
    "    authCode = getCode()\n",
    "    \n",
    "    # Reauthenticate\n",
    "    token_response = client.exchange_code_for_token(client_id=client_id, \n",
    "                                                    client_secret=client_secret, \n",
    "                                                    code=code)\n",
    "    access_token = token_response['access_token']\n",
    "    client.access_token = access_token\n",
    "finally:\n",
    "    activities = client.get_activities()\n",
    "    activity_list = []\n",
    "    for activity in activities:\n",
    "        activity_dict = {\n",
    "            'id': activity.id,\n",
    "            'name': activity.name,\n",
    "            'start_date': activity.start_date,\n",
    "            'distance': activity.distance,  # Convert distance to numeric (meters)\n",
    "            'moving_time': activity.moving_time,  # Convert to seconds\n",
    "            'elapsed_time': activity.elapsed_time,  # Convert to seconds\n",
    "            'total_elevation_gain': activity.total_elevation_gain,\n",
    "            'type': activity.type,\n",
    "            'average_speed': activity.average_speed if activity.average_speed else None,  # Convert to numeric\n",
    "            'max_speed': activity.max_speed if activity.max_speed else None,  # Convert to numeric\n",
    "            'average_heartrate': activity.average_heartrate,\n",
    "            'max_heartrate': activity.max_heartrate,\n",
    "        }\n",
    "        activity_list.append(activity_dict)\n",
    "    myActivities = pd.DataFrame(activity_list)\n",
    "    everything = myActivities.copy()\n",
    "    myActivities = myActivities[myActivities['type'].astype(str).apply(lambda x: 'Run' in x)]\n",
    "    \n",
    "myActivities.head()"
   ],
   "id": "d2e67be9faf623d8",
   "outputs": [],
   "execution_count": null
  },
  {
   "metadata": {},
   "cell_type": "code",
   "source": "print(f'Loaded {len(myActivities)} activities from API')",
   "id": "8210f65fcf06d73b",
   "outputs": [],
   "execution_count": null
  },
  {
   "metadata": {},
   "cell_type": "markdown",
   "source": "",
   "id": "294acb4d6ccaf2c4"
  },
  {
   "metadata": {},
   "cell_type": "markdown",
   "source": "## Get Activity Data",
   "id": "e105a2f24148f21b"
  },
  {
   "metadata": {},
   "cell_type": "code",
   "source": [
    "def get_activity_streams(client, activity_id, resolution='high'):\n",
    "    \"\"\"\n",
    "    Fetch heart rate, pace (velocity), and elevation streams for a given activity ID.\n",
    "    \"\"\"\n",
    "    streams = client.get_activity_streams(\n",
    "        activity_id,\n",
    "        types=['heartrate', 'velocity_smooth', 'altitude', 'time', 'distance'],\n",
    "        resolution=resolution,\n",
    "    )\n",
    "    \n",
    "    heart_rate = streams['heartrate'].data if 'heartrate' in streams else None\n",
    "    velocity = streams['velocity_smooth'].data if 'velocity_smooth' in streams else None\n",
    "    elevation = streams['altitude'].data if 'altitude' in streams else None\n",
    "    time_index = streams['time'].data if 'time' in streams else None\n",
    "    distance_index = streams['distance'].data if 'distance' in streams else None\n",
    "    return heart_rate, velocity, elevation, time_index, distance_index"
   ],
   "id": "770e6a0fcda63dff",
   "outputs": [],
   "execution_count": null
  },
  {
   "metadata": {},
   "cell_type": "code",
   "source": "myActivities['granular data'] = myActivities['id'].apply(lambda x: get_activity_streams(client, x, resolution='high'))",
   "id": "a859923b6e4b3758",
   "outputs": [],
   "execution_count": null
  },
  {
   "metadata": {},
   "cell_type": "code",
   "source": [
    "# Change this to whatever row number you want\n",
    "rowId = 0\n",
    "\n",
    "things = myActivities.iloc[rowId]\n",
    "activityId = things['id']\n",
    "name = things['name']\n",
    "hr, pace, elevation, timeIdx, distanceIdx = get_activity_streams(client, activityId, resolution='high')\n",
    "\n",
    "# Convert to imperial system\n",
    "elevation = [int(round(metersToFeet(elev), 0)) for elev in elevation]\n",
    "timeIdx = [i/60 for i in timeIdx]\n",
    "distanceIdx = [round(metersToMiles(i), 2) for i in distanceIdx]\n",
    "\n",
    "pace = [Pace.from_mps(v) for v in pace if v > 0]"
   ],
   "id": "3aa96be25a4d8c1e",
   "outputs": [],
   "execution_count": null
  },
  {
   "metadata": {},
   "cell_type": "markdown",
   "source": "## Interactive Plots",
   "id": "471e7a59554266c0"
  },
  {
   "metadata": {},
   "cell_type": "code",
   "source": [
    "def numericPlot(base, items):\n",
    "    data = pd.DataFrame({\n",
    "        base: items,\n",
    "        'Time': timeIdx,\n",
    "        'Distance': distanceIdx\n",
    "    })\n",
    "    return data"
   ],
   "id": "8523d75eed1788d9",
   "outputs": [],
   "execution_count": null
  },
  {
   "metadata": {},
   "cell_type": "markdown",
   "source": "### Pace",
   "id": "bdd92ad403876536"
  },
  {
   "metadata": {},
   "cell_type": "code",
   "source": [
    "diff = len(timeIdx) - len(pace)\n",
    "average = sum(pace)/len(pace)\n",
    "x = pace + [average] * diff\n",
    "\n",
    "stuff = numericPlot('Pace', x)\n",
    "myPaces = stuff['Pace']\n",
    "index = stuff['Time']\n",
    "\n",
    "y_values = [pace.time/60 for pace in myPaces]\n",
    "labels = [str(pace) for pace in myPaces]"
   ],
   "id": "22e0acd1773fec26",
   "outputs": [],
   "execution_count": null
  },
  {
   "metadata": {},
   "cell_type": "code",
   "source": [
    "import plotly.graph_objects as go\n",
    "\n",
    "# Create the plot\n",
    "fig = go.Figure(data=go.Scatter(\n",
    "    x=index,\n",
    "    y=y_values,\n",
    "    mode='markers+lines',\n",
    "    text=[f\"{str(pace)}, {hr[i]} BPM\" for i, pace in enumerate(myPaces)],\n",
    "    marker=dict(color=hr, colorscale='solar', colorbar=dict(title='Heart Rate'))\n",
    "))\n",
    "\n",
    "fig.update_layout(\n",
    "    title='Pace Plot',\n",
    "    xaxis_title='Time',\n",
    "    yaxis_title='Pace (min/mi)'\n",
    ")\n",
    "fig.show()\n",
    "print(data.columns)"
   ],
   "id": "e80aa16c95878f02",
   "outputs": [],
   "execution_count": null
  },
  {
   "metadata": {},
   "cell_type": "code",
   "source": [
    "index = stuff['Distance']\n",
    "\n",
    "y_values = [pace.time/60 for pace in myPaces]\n",
    "labels = [str(pace) for pace in myPaces]\n",
    "\n",
    "# Create the plot\n",
    "fig = go.Figure(data=go.Scatter(\n",
    "    x=index,\n",
    "    y=y_values,\n",
    "    mode='markers+lines',\n",
    "    text=[f\"{str(pace)}, {hr[i]} BPM\" for i, pace in enumerate(myPaces)],\n",
    "    marker=dict(color=hr, colorscale='solar', colorbar=dict(title='Heart Rate'))\n",
    "))\n",
    "\n",
    "fig.update_layout(\n",
    "    title='Pace Plot',\n",
    "    xaxis_title='Distance',\n",
    "    yaxis_title='Pace (min/mi)'\n",
    ")\n",
    "fig.show()"
   ],
   "id": "d9ed79876b8f9e9d",
   "outputs": [],
   "execution_count": null
  },
  {
   "metadata": {},
   "cell_type": "markdown",
   "source": "### HR",
   "id": "19b31ef82a0ba43b"
  },
  {
   "metadata": {},
   "cell_type": "code",
   "source": [
    "zones = client.get_athlete_zones().dict()\n",
    "values = zones['heart_rate']['zones'][:-1]"
   ],
   "id": "ce0865ea8f63d56f",
   "outputs": [],
   "execution_count": null
  },
  {
   "metadata": {},
   "cell_type": "code",
   "source": [
    "def getZone(hr):\n",
    "    n = len(values)\n",
    "    assert hr >= 0, 'HR must be non-negative'\n",
    "    for i in range(n):\n",
    "        bucket = values[i]\n",
    "        if bucket['min'] <= hr <= bucket['max']:\n",
    "            return f'Zone {i+1}'\n",
    "    raise ValueError(f'HR {hr} is out of range')"
   ],
   "id": "ee7016a734de0e39",
   "outputs": [],
   "execution_count": null
  },
  {
   "metadata": {},
   "cell_type": "code",
   "source": [
    "base = 'HR'\n",
    "data = numericPlot(base, hr)\n",
    "try:\n",
    "    data['Zone']\n",
    "except:\n",
    "    data['Zone'] = data[base].apply(getZone)\n",
    "fig = go.Figure()"
   ],
   "id": "302969392a792587",
   "outputs": [],
   "execution_count": null
  },
  {
   "metadata": {},
   "cell_type": "code",
   "source": [
    "zone_colors = {\n",
    "    'Zone 1': 'green',\n",
    "    'Zone 2': 'yellow',\n",
    "    'Zone 3': 'orange',\n",
    "    'Zone 4': 'red'\n",
    "}\n",
    "\n",
    "# Create the figure\n",
    "fig = go.Figure()\n",
    "\n",
    "# Add traces for each zone\n",
    "for zone in data['Zone'].unique():\n",
    "    zone_data = data[data['Zone'] == zone]\n",
    "    fig.add_trace(go.Scatter(\n",
    "        x=zone_data['Time'],\n",
    "        y=zone_data['HR'],\n",
    "        mode='lines',\n",
    "        name=zone,\n",
    "        line=dict(color=zone_colors[zone], width=1)  # Assign color based on zone\n",
    "    ))\n",
    "\n",
    "fig.update_layout(\n",
    "    title=f'{base}: {name}',\n",
    "    xaxis_title='Time',\n",
    "    yaxis_title=base,\n",
    "    autosize=False,\n",
    "    width=800,\n",
    "    height=600\n",
    ")\n",
    "\n",
    "fig.show()\n",
    "print(data.columns)"
   ],
   "id": "bb971e195afb78b9",
   "outputs": [],
   "execution_count": null
  },
  {
   "metadata": {},
   "cell_type": "code",
   "source": [
    "# Create the figure\n",
    "fig = go.Figure()\n",
    "\n",
    "# Add traces for each zone using Distance as the x-axis\n",
    "for zone in data['Zone'].unique():\n",
    "    zone_data = data[data['Zone'] == zone]\n",
    "    fig.add_trace(go.Scatter(\n",
    "        x=zone_data['Distance'],\n",
    "        y=zone_data['HR'],\n",
    "        mode='lines',\n",
    "        name=zone,\n",
    "        line=dict(color=zone_colors[zone], width=1)  # Assign color based on zone\n",
    "    ))\n",
    "\n",
    "fig.update_layout(\n",
    "    title=f'{base}: {name}',\n",
    "    xaxis_title='Distance',\n",
    "    yaxis_title=base,\n",
    "    autosize=False,\n",
    "    width=800,\n",
    "    height=600\n",
    ")\n",
    "print(data.columns)\n",
    "fig.show()"
   ],
   "id": "b18488a53d28eed1",
   "outputs": [],
   "execution_count": null
  },
  {
   "metadata": {},
   "cell_type": "code",
   "source": [
    "data['Pace'] = x\n",
    "\n",
    "grouped = data.groupby('Zone').mean()\n",
    "minimums = data.groupby('Zone').min()\n",
    "maximums = data.groupby('Zone').max()\n",
    "minimums['Pace'] = minimums['Pace'].apply(lambda x: x.time).apply(lambda j: Pace.fromSeconds(j))\n",
    "maximums['Pace'] = maximums['Pace'].apply(lambda x: x.time).apply(lambda j: Pace.fromSeconds(j))\n",
    "for z in grouped.index:\n",
    "    print(f'{z} Average Pace: {Pace.fromSeconds(grouped.loc[z, \"Pace\"])}')"
   ],
   "id": "734920e7ee00a04d",
   "outputs": [],
   "execution_count": null
  },
  {
   "metadata": {},
   "cell_type": "code",
   "source": "print(data.columns)",
   "id": "4165ec7ea558f3ba",
   "outputs": [],
   "execution_count": null
  },
  {
   "metadata": {},
   "cell_type": "code",
   "source": [
    "for z in minimums.index:\n",
    "    print(f'{z} Range: {minimums.loc[z, \"Pace\"]} to {maximums.loc[z, \"Pace\"]}')"
   ],
   "id": "7b0603043a75e14b",
   "outputs": [],
   "execution_count": null
  },
  {
   "metadata": {},
   "cell_type": "code",
   "source": [
    "import pandas as pd\n",
    "import plotly.express as px\n",
    "from units import MILES  # Assuming `units` is a module with MILES and KILOMETERS constants\n",
    "\n",
    "# Example DataFrame with custom Pace objects\n",
    "theThings = pd.DataFrame({\n",
    "    'Zone': ['Zone 1', 'Zone 2', 'Zone 3', 'Zone 1', 'Zone 2', 'Zone 3'],\n",
    "    'Pace': [\n",
    "        Pace(5, 30, MILES),  # 5:30/mile\n",
    "        Pace(6, 0, MILES),   # 6:00/mile\n",
    "        Pace(5, 45, MILES),  # 5:45/mile\n",
    "        Pace(5, 50, MILES),  # 5:50/mile\n",
    "        Pace(6, 10, MILES),  # 6:10/mile\n",
    "        Pace(5, 40, MILES)   # 5:40/mile\n",
    "    ]\n",
    "})\n",
    "\n",
    "# Convert Pace objects to total seconds for plotting\n",
    "theThings['Pace (seconds)'] = theThings['Pace'].apply(lambda p: p.time)\n",
    "\n",
    "# Add a column with string representations of the Pace objects\n",
    "theThings['Pace (string)'] = theThings['Pace'].apply(str)\n",
    "\n",
    "# Create the boxplot\n",
    "fig = px.box(\n",
    "    theThings,\n",
    "    x='Zone',\n",
    "    y='Pace (seconds)',\n",
    "    title='Pace Distribution by Heart Rate Zone',\n",
    "    hover_data={'Pace (string)': True}  # Show string representation in tooltip\n",
    ")\n",
    "\n",
    "# Update layout for better visualization\n",
    "fig.update_layout(\n",
    "    xaxis_title='Heart Rate Zone',\n",
    "    yaxis_title='Pace (seconds)',\n",
    "    autosize=False,\n",
    "    width=800,\n",
    "    height=600\n",
    ")\n",
    "\n",
    "# Show the plot\n",
    "fig.show()"
   ],
   "id": "4de38cedf96a9776",
   "outputs": [],
   "execution_count": null
  },
  {
   "metadata": {},
   "cell_type": "code",
   "source": [
    "data['PaceTime'] = data['Pace'].apply(lambda x: x.time)\n",
    "data['PaceStr'] = data['Pace'].astype(str)"
   ],
   "id": "5630aa45fe7743",
   "outputs": [],
   "execution_count": null
  },
  {
   "metadata": {},
   "cell_type": "code",
   "source": [
    "import pandas as pd\n",
    "import plotly.graph_objects as go\n",
    "\n",
    "# Assuming `data` is your DataFrame with the following columns:\n",
    "# 'Zone' (Heart Rate Zone), 'Distance', 'PaceTime' (numeric pace in seconds), 'PaceStr' (string representation of pace)\n",
    "\n",
    "# Function to filter out outliers using the 1.5 x IQR rule\n",
    "def exclude_outliers(df, column):\n",
    "    q1 = df[column].quantile(0.25)  # First quartile (25th percentile)\n",
    "    q3 = df[column].quantile(0.75)  # Third quartile (75th percentile)\n",
    "    iqr = q3-q1\n",
    "    lower_fence = q1 - 1.5 * iqr\n",
    "    upper_fence = q3 + 1.5 * iqr\n",
    "    return df[(df[column] >= lower_fence) & (df[column] <= upper_fence)]  # Filter data within fences\n",
    "\n",
    "# Apply the outlier exclusion function to each zone\n",
    "filtered_data = pd.concat([\n",
    "    exclude_outliers(data[data['Zone'] == zone], 'PaceTime')\n",
    "    for zone in data['Zone'].unique()\n",
    "])\n",
    "\n",
    "# Create the boxplot\n",
    "fig = go.Figure()\n",
    "\n",
    "# Add a box trace for each heart rate zone\n",
    "for zone in filtered_data['Zone'].unique():\n",
    "    zone_data = filtered_data[filtered_data['Zone'] == zone]\n",
    "    fig.add_trace(go.Box(\n",
    "        y=zone_data['PaceTime'],  # Numeric pace values for the boxplot\n",
    "        x=[zone] * len(zone_data),  # Use the zone as the x-axis category\n",
    "        name=zone,  # Name of the trace (zone)\n",
    "        text=zone_data['PaceStr'],  # Tooltip labels (string representation of pace)\n",
    "        hovertemplate='Zone: %{x}<br>Pace: %{text}<extra></extra>',  # Custom tooltip format\n",
    "        boxmean=True  # Show mean as a dashed line\n",
    "    ))\n",
    "\n",
    "# Update layout for better visualization\n",
    "fig.update_layout(\n",
    "    title='Pace Distribution by Heart Rate Zone (Outliers Excluded)',\n",
    "    xaxis_title='Heart Rate Zone',\n",
    "    yaxis_title='Pace (seconds)',\n",
    "    autosize=False,\n",
    "    width=800,\n",
    "    height=600\n",
    ")\n",
    "\n",
    "# Show the plot\n",
    "fig.show()"
   ],
   "id": "a532e8937f7807a4",
   "outputs": [],
   "execution_count": null
  },
  {
   "metadata": {},
   "cell_type": "markdown",
   "source": "### Elevation",
   "id": "e64c28596c8036c8"
  },
  {
   "metadata": {},
   "cell_type": "code",
   "source": [
    "data = numericPlot('Elevation', elevation)\n",
    "fig = px.line(data, x='Time', y='Elevation', title=f'Elevation: {name}')\n",
    "fig.update_layout(autosize=False, width=800, height=600)\n",
    "fig.show()"
   ],
   "id": "49c0a63d186ac072",
   "outputs": [],
   "execution_count": null
  },
  {
   "metadata": {},
   "cell_type": "code",
   "source": [
    "fig = px.line(data, x='Distance', y='Elevation', title=f'Elevation: {name}')\n",
    "fig.update_layout(autosize=False, width=800, height=600)\n",
    "fig.show()"
   ],
   "id": "4971c11ad9844313",
   "outputs": [],
   "execution_count": null
  },
  {
   "metadata": {},
   "cell_type": "code",
   "source": "metersToFeet(max(elevation)) - metersToFeet(min(elevation))",
   "id": "e43589e84089b8f4",
   "outputs": [],
   "execution_count": null
  },
  {
   "metadata": {},
   "cell_type": "code",
   "source": "metersToFeet(float(things['total_elevation_gain']))",
   "id": "cc50c36cb6d42539",
   "outputs": [],
   "execution_count": null
  },
  {
   "metadata": {},
   "cell_type": "markdown",
   "source": "## HR-Pace Correlation",
   "id": "a93ed20d2a2e2e7d"
  },
  {
   "metadata": {},
   "cell_type": "code",
   "source": [
    "x = data[['HR', 'PaceTime']]\n",
    "x['PaceTime'] = x['PaceTime'].apply(lambda a: a/60)\n",
    "correlation = x.corr()['HR']['PaceTime']\n",
    "float(correlation)"
   ],
   "id": "47ef52048b87807f",
   "outputs": [],
   "execution_count": null
  },
  {
   "metadata": {},
   "cell_type": "code",
   "source": [
    "fig = px.scatter(x, x='HR', y='PaceTime', title='Scatter Plot of HR by Pace', text=float(correlation))\n",
    "fig.show()"
   ],
   "id": "5e54b6a70a2f2796",
   "outputs": [],
   "execution_count": null
  }
 ],
 "metadata": {
  "kernelspec": {
   "display_name": "Python 3",
   "language": "python",
   "name": "python3"
  },
  "language_info": {
   "codemirror_mode": {
    "name": "ipython",
    "version": 2
   },
   "file_extension": ".py",
   "mimetype": "text/x-python",
   "name": "python",
   "nbconvert_exporter": "python",
   "pygments_lexer": "ipython2",
   "version": "2.7.6"
  }
 },
 "nbformat": 4,
 "nbformat_minor": 5
}
